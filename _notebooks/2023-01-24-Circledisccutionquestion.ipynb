{
 "cells": [
  {
   "attachments": {},
   "cell_type": "markdown",
   "metadata": {},
   "source": []
  },
  {
   "cell_type": "markdown",
   "metadata": {},
   "source": [
    "# Class Discussion\n",
    "\n",
    "- toc: true\n",
    "- title: Class Discussion\n",
    "- comments: true\n",
    "- badges: true\n",
    "- categories: [Week 18]"
   ]
  },
  {
   "attachments": {},
   "cell_type": "markdown",
   "metadata": {},
   "source": [
    "## Beneficial and Harmful Effects\n",
    "\n",
    "### Drones, Chat GPT, and Dopamine\n",
    "\n",
    "1. Drones\n",
    "    -An advantages of Drones are that they can be used for survalence videos and be used to capture sights that can't be seen from the ground and to get unique point of views and cool sights.\n",
    "\n",
    "    - Anoter Advantage is that people can you drone to fly as a hobby for fun and to enjoy a new experence though a new view and fun way.\n",
    "    \n",
    "    -This is an advantage and disadvatage is that you can people can use drones for millitary use by not endaging people and striking people from a distance or using drone as survalence and to spot people that could be hard to find\n",
    "\n",
    "\n",
    "2. Dopamine\n",
    "    -  I feel like it is a real thing but is not enterly bad although it causes addiction and the want for more many people use it to essace problems and the real problem is the reason why someone started to use it and that needs to be adressed.\n",
    "    - I also feel like video games helps people remove stress and relax from life but its not like drugs where if you get addicted its hard to stop. For me video games is good outlet from life and always me to relax and enjoy time with friends meet new people and just be in my own world.\n",
    "\n",
    "### Blog Post Reflection – Digital Empowerment\n",
    "\n",
    "1. Empowerment in the world\n",
    "    - You empower yourself in the digital world but diving into and wanting to learn about it and know more\n",
    "\n",
    "    - Also you get empowered by just useing it every day and just having around. The use of it allows you to experience it and just learn more about how it works\n",
    "\n",
    "2. Help Empovering\n",
    "    - Someone that is empowered can help others that arn't impowered by exposing them to technology and the digital world. You can show them how something works or even just allowing them to play video games or just explore.\n",
    "\n",
    "3. Digital Barriers\n",
    "    - Some Barriers could be the limit of technology in some communities but at Del Norte they give Computers to everyone if you need one ths allows people to be exposed to more technology and the digital world."
   ]
  }
 ],
 "metadata": {
  "kernelspec": {
   "display_name": "Python 3",
   "language": "python",
   "name": "python3"
  },
  "language_info": {
   "name": "python",
   "version": "3.10.6 (tags/v3.10.6:9c7b4bd, Aug  1 2022, 21:53:49) [MSC v.1932 64 bit (AMD64)]"
  },
  "orig_nbformat": 4,
  "vscode": {
   "interpreter": {
    "hash": "dcd4837add793386cd67e25a441830de5b4a5ceabdd5dcba5a317ceae751db5e"
   }
  }
 },
 "nbformat": 4,
 "nbformat_minor": 2
}
