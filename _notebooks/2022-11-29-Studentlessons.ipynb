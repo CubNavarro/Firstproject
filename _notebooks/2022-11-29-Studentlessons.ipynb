{
 "cells": [
  {
   "cell_type": "markdown",
   "metadata": {},
   "source": [
    "# Blog about Student lessons\n",
    "\n",
    "- toc: true\n",
    "- title: Student Lessons\n",
    "- comments: true\n",
    "- badges: true\n",
    "- categories: [Week 14]\n"
   ]
  },
  {
   "cell_type": "markdown",
   "metadata": {},
   "source": [
    "## This is my blog about WiStem\n",
    "\n",
    "Thought the lesson I learaned about Varibles and data abstraction.  \n",
    "\n",
    "I answered all of the question in the homework and placed top 10 in the kahoot and getting any of the questions wrong\n",
    "\n",
    "An example of one of the HW problems and the answer was iscold, boolean \n",
    "\n",
    "You are storing true or false in a variable that asks if the classroom is cold. What is the best variable name and data type?\n",
    "\n",
    "weather, integer\n",
    "weather, boolean\n",
    "isCold, boolean\n",
    "cold, string\n",
    "\n"
   ]
  },
  {
   "cell_type": "markdown",
   "metadata": {},
   "source": [
    "### Homework\n",
    "I did the homework and tried some of the hacks and understood how to do it well. The problems didn't take to much time but helped me practice."
   ]
  },
  {
   "cell_type": "code",
   "execution_count": 7,
   "metadata": {},
   "outputs": [],
   "source": [
    "languages_list = []\n",
    "languages_list = [\"Python\", \"C++\", \"JavaScript\", \"One\",\"BigBOi\"]"
   ]
  },
  {
   "cell_type": "code",
   "execution_count": null,
   "metadata": {},
   "outputs": [],
   "source": [
    "languages_list = []\n",
    "languages_list = [\"Python\", \"C++\", \"JavaScript\"]\n",
    "print()"
   ]
  },
  {
   "cell_type": "code",
   "execution_count": null,
   "metadata": {},
   "outputs": [],
   "source": [
    "languages_list = []\n",
    "languages_list = [\"Python\", \"C++\", \"JavaScript\"]\n",
    "print(languages_list[0])"
   ]
  },
  {
   "cell_type": "code",
   "execution_count": null,
   "metadata": {},
   "outputs": [],
   "source": [
    "listA = []\n",
    "listA = [1, 55, 8, 2, 76]\n",
    "listB = []\n",
    "listB = [22, 7, 13]\n",
    "\n",
    "print()"
   ]
  },
  {
   "cell_type": "code",
   "execution_count": null,
   "metadata": {},
   "outputs": [],
   "source": [
    "listA = [\"James\", \"Caleb\"]\n",
    "listB = [\"Navan\",\"Andrew\"]"
   ]
  },
  {
   "cell_type": "markdown",
   "metadata": {},
   "source": [
    "I worked on the Bianey Hacks/Questions and got 4 of the 6 correct but they was simple mistakes \n",
    "\n",
    "Eample-\n",
    "\n",
    "2. 44\n",
    "I said 101110\n",
    "Answer in 101100\n",
    "\n",
    "I tried the Extra Binary Hacks for if you changed your bits to 24 but really struggled in understanting it but asked my friend and he helped explain it and I got 3 correct for decimal notation and got 2/3 of the binary notation\n",
    "\n",
    "Some of the problems I did for WiStem hacks and HW\n",
    "\n",
    "Consider the following code segment:\n",
    "\n",
    "num1 ⟵ 4\n",
    "num2 ⟵ 6\n",
    "num1 ⟵ num 2\n",
    "DISPLAY(num1)\n",
    "\n",
    "DISPLAY(num2)\n",
    "\n",
    "What is displayed after running this code segment?\n",
    "\n",
    "4 6\n",
    "6 4\n",
    "4 4\n",
    "6 6\n",
    "\n",
    "Answer - 4\n",
    "\n",
    "\n",
    "p ⟵ 10\n",
    "q ⟵ 20\n",
    "r ⟵ 30\n",
    "s ⟵ 40\n",
    "p ⟵ q\n",
    "q ⟵ r\n",
    "s ⟵ q\n",
    "r ⟵ p\n",
    "What is the value of r as a result of running this code segment\n",
    "\n",
    "10\n",
    "20\n",
    "30\n",
    "40\n",
    "\n",
    "Answer - 20"
   ]
  },
  {
   "cell_type": "markdown",
   "metadata": {},
   "source": [
    "## This is My Blog about the second lesson with my boy Theo\n",
    "\n",
    "I think this was more of a refresher for me cause I knew this information pretty well and knew how to solve the equation from the start.\n",
    "\n",
    "For the pratice problems under the vocab I tried for the first practice problem and then just looked at the answers for the rest but i did get the first problem correct legit using a calc.\n",
    "\n",
    "num 1 ⟵ 25\n",
    "\n",
    "num 2 ⟵ 43\n",
    "\n",
    "num 3 ⟵ 18\n",
    "\n",
    "average ⟵ (num 1 + num 2 + num 3)/3\n",
    "\n",
    "display average\n",
    "A = 28.6666\n",
    "\n",
    "For video 3 I understood the materal very well and again just looked at the answer without trying.\n",
    "\n",
    "For 3.4 Video 1 I really diddn't know those vocab and teached me new stuff but am still mad that you said school has 5 letters when is has 6.\n"
   ]
  },
  {
   "cell_type": "markdown",
   "metadata": {},
   "source": [
    "### Homework\n",
    "I really didn't understant what I was supposed to do for the homework and was pretty unclear but I understand what the code is saying."
   ]
  },
  {
   "cell_type": "code",
   "execution_count": 5,
   "metadata": {},
   "outputs": [
    {
     "name": "stdout",
     "output_type": "stream",
     "text": [
      "[0, 2, 4, 6, 8, 10]\n"
     ]
    }
   ],
   "source": [
    "numbers = [0,1,2,3,4,5,6,7,8,9,10]\n",
    "evens = []\n",
    "\n",
    "for i in numbers:\n",
    "    if (numbers[i] % 2 == 0):\n",
    "        evens.append(numbers[i])\n",
    "\n",
    "print(evens)\n"
   ]
  },
  {
   "cell_type": "code",
   "execution_count": 6,
   "metadata": {},
   "outputs": [
    {
     "name": "stdout",
     "output_type": "stream",
     "text": [
      "*\n",
      "**\n",
      "***\n",
      "****\n",
      "*****\n"
     ]
    }
   ],
   "source": [
    "i = 1\n",
    "starString = \"*\"\n",
    "while i <= 5:\n",
    "  j = 1\n",
    "  while j <= i:\n",
    "    print (\"*\", end= \"\")\n",
    "    j += 1\n",
    "  print ()\n",
    "  i += 1"
   ]
  },
  {
   "cell_type": "markdown",
   "metadata": {},
   "source": [
    "For video 2 hacks I actually did the work for the questions and was fairly easy not taking to much time \n",
    "\n",
    "given the following code segment below:\n",
    "a ⟵ 7\n",
    "\n",
    "b ⟵ 1\n",
    "\n",
    "c ⟵ 3\n",
    "\n",
    "d ⟵ 4\n",
    "\n",
    "a ⟵ b\n",
    "\n",
    "b ⟵ c + d\n",
    "\n",
    "d ⟵ b\n",
    "\n",
    "find the value for a, b, c, d\n",
    "a = 1 b = 7 c = 3 d = 7\n",
    "\n",
    "Sequencing was fairly easy too I got the answer correct and was not a challenge. It is good practice though"
   ]
  },
  {
   "cell_type": "code",
   "execution_count": 4,
   "metadata": {},
   "outputs": [
    {
     "name": "stdout",
     "output_type": "stream",
     "text": [
      "6 11\n"
     ]
    }
   ],
   "source": [
    "num1 = 3\n",
    "num2 = 1\n",
    "num3 = 5\n",
    "num1 = num2 + num3      \n",
    "num2 = num1 + num3    \n",
    "\n",
    "print(num1,num2)"
   ]
  },
  {
   "cell_type": "markdown",
   "metadata": {},
   "source": [
    "3.4 Video 1 Hacks\n",
    "\n",
    "This was fairly easy again not much challenge and didn't take me long to complete\n",
    "\n",
    "Test 1 \n",
    "\n",
    "firstName <- \"Bob\"\n",
    "lastName <- \"Smith\"\n",
    "var <- substring(firstName, 1, 1)\n",
    "name <- concat(lastName, var)\n",
    "email <- concat(name, \"@gmail.com\")\n",
    "DISPLAY(email)\n",
    "\n",
    "Answer = SmithB@gmail.com\n",
    "\n",
    "Test 2\n",
    "\n",
    "word1 <- \"computer\"\n",
    "word2 <- \"textbooks\"\n",
    "length1 <- len(word1)/2\n",
    "length2 <- len(word2)/3\n",
    "first <- substring(word1, 2, len1)\n",
    "second <- substring(word2, len2+3, len2)\n",
    "newWord <- concat(first, second)\n",
    "DISPLAY(newWord)\n",
    "\n",
    "Answer = ompuook\n"
   ]
  }
 ],
 "metadata": {
  "kernelspec": {
   "display_name": "Python 3.10.6 64-bit",
   "language": "python",
   "name": "python3"
  },
  "language_info": {
   "codemirror_mode": {
    "name": "ipython",
    "version": 3
   },
   "file_extension": ".py",
   "mimetype": "text/x-python",
   "name": "python",
   "nbconvert_exporter": "python",
   "pygments_lexer": "ipython3",
   "version": "3.10.6"
  },
  "orig_nbformat": 4,
  "vscode": {
   "interpreter": {
    "hash": "dcd4837add793386cd67e25a441830de5b4a5ceabdd5dcba5a317ceae751db5e"
   }
  }
 },
 "nbformat": 4,
 "nbformat_minor": 2
}
