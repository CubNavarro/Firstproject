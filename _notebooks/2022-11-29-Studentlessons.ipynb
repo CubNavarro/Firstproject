{
 "cells": [
  {
   "cell_type": "markdown",
   "metadata": {},
   "source": [
    "# Blog about Student lessons\n",
    "\n",
    "- toc: true\n",
    "- title: Student Lessons\n",
    "- comments: true\n",
    "- badges: true\n",
    "- categories: [Week 14]\n"
   ]
  },
  {
   "cell_type": "markdown",
   "metadata": {},
   "source": [
    "## This is my blog about WiStem\n",
    "\n",
    "Thought the lesson I learaned about Varibles and data abstraction.  \n",
    "\n",
    "I answered all of the question in the homework and placed top 10 in the kahoot and getting any of the questions wrong\n",
    "\n",
    "An example of one of the HW problems and the answer was iscold, boolean \n",
    "\n",
    "You are storing true or false in a variable that asks if the classroom is cold. What is the best variable name and data type?\n",
    "\n",
    "weather, integer\n",
    "weather, boolean\n",
    "isCold, boolean\n",
    "cold, string\n",
    "\n"
   ]
  },
  {
   "cell_type": "markdown",
   "metadata": {},
   "source": [
    "### Homework\n",
    "I did the homework and tried some of the hacks and understood how to do it well. The problems didn't take to much time but helped me practice."
   ]
  },
  {
   "cell_type": "code",
   "execution_count": 7,
   "metadata": {},
   "outputs": [],
   "source": [
    "languages_list = []\n",
    "languages_list = [\"Python\", \"C++\", \"JavaScript\", \"One\",\"BigBOi\"]"
   ]
  },
  {
   "cell_type": "code",
   "execution_count": null,
   "metadata": {},
   "outputs": [],
   "source": [
    "languages_list = []\n",
    "languages_list = [\"Python\", \"C++\", \"JavaScript\"]\n",
    "print()"
   ]
  },
  {
   "cell_type": "code",
   "execution_count": null,
   "metadata": {},
   "outputs": [],
   "source": [
    "languages_list = []\n",
    "languages_list = [\"Python\", \"C++\", \"JavaScript\"]\n",
    "print(languages_list[0])"
   ]
  },
  {
   "cell_type": "code",
   "execution_count": null,
   "metadata": {},
   "outputs": [],
   "source": [
    "listA = []\n",
    "listA = [1, 55, 8, 2, 76]\n",
    "listB = []\n",
    "listB = [22, 7, 13]\n",
    "\n",
    "print()"
   ]
  },
  {
   "cell_type": "code",
   "execution_count": null,
   "metadata": {},
   "outputs": [],
   "source": [
    "listA = [\"James\", \"Caleb\"]\n",
    "listB = [\"Navan\",\"Andrew\"]"
   ]
  },
  {
   "cell_type": "markdown",
   "metadata": {},
   "source": [
    "I worked on the Bianey Hacks/Questions and got 4 of the 6 correct but they was simple mistakes \n",
    "\n",
    "Eample-\n",
    "\n",
    "2. 44\n",
    "\n",
    "I said 101110\n",
    "\n",
    "Answer is 101100\n",
    "\n",
    "I tried the Extra Binary Hacks for if you changed your bits to 24 but really struggled in understanting it but asked my friend and he helped explain it and I got 3 correct for decimal notation and got 2/3 of the binary notation\n",
    "\n",
    "Binary Hacks\n",
    "\n",
    "Convert these binary notation to decimal notation. (the way we normally count)\n",
    "\n",
    "The binary number 111.\n",
    "\n",
    "Answer - 7\n",
    "\n",
    "The binary number 1011.\n",
    "\n",
    "Answer - 11\n",
    "\n",
    "The binary number 1101011\n",
    "\n",
    "Answer - 107\n",
    "\n",
    "12\n",
    "\n",
    "Answer - 1100\n",
    "\n",
    "44\n",
    "\n",
    "Answer - 101100\n",
    "\n",
    "254\n",
    "\n",
    "Answer - 11111110\n",
    "\n",
    "\n",
    "Some of the problems I did for WiStem hacks and HW\n",
    "\n",
    "Consider the following code segment:\n",
    "\n",
    "num1 ⟵ 4\n",
    "\n",
    "num2 ⟵ 6\n",
    "\n",
    "num1 ⟵ num 2\n",
    "\n",
    "DISPLAY(num1)\n",
    "\n",
    "DISPLAY(num2)\n",
    "\n",
    "What is displayed after running this code segment?\n",
    "\n",
    "4 6\n",
    "\n",
    "6 4\n",
    "\n",
    "4 4\n",
    "\n",
    "6 6\n",
    "\n",
    "Answer - 4\n",
    "\n",
    "\n",
    "p ⟵ 10\n",
    "\n",
    "q ⟵ 20\n",
    "\n",
    "r ⟵ 30\n",
    "\n",
    "s ⟵ 40\n",
    "\n",
    "p ⟵ q\n",
    "\n",
    "q ⟵ r\n",
    "\n",
    "s ⟵ q\n",
    "\n",
    "r ⟵ p\n",
    "\n",
    "What is the value of r as a result of running this code segment\n",
    "\n",
    "10\n",
    "\n",
    "20\n",
    "\n",
    "30\n",
    "\n",
    "40\n",
    "\n",
    "Answer - 20"
   ]
  },
  {
   "cell_type": "markdown",
   "metadata": {},
   "source": []
  },
  {
   "cell_type": "markdown",
   "metadata": {},
   "source": [
    "## This is My Blog about the second lesson with my boy Theo\n",
    "\n",
    "I think this was more of a refresher for me cause I knew this information pretty well and knew how to solve the equation from the start.\n",
    "\n",
    "For the pratice problems under the vocab I tried for the first practice problem and then just looked at the answers for the rest but i did get the first problem correct legit using a calc.\n",
    "\n",
    "num 1 ⟵ 25\n",
    "\n",
    "num 2 ⟵ 43\n",
    "\n",
    "num 3 ⟵ 18\n",
    "\n",
    "average ⟵ (num 1 + num 2 + num 3)/3\n",
    "\n",
    "display average\n",
    "A = 28.6666\n",
    "\n",
    "For video 3 I understood the materal very well and again just looked at the answer without trying.\n",
    "\n",
    "For 3.4 Video 1 I really diddn't know those vocab and teached me new stuff but am still mad that you said school has 5 letters when is has 6.\n"
   ]
  },
  {
   "cell_type": "markdown",
   "metadata": {},
   "source": [
    "### Homework\n",
    "I really didn't understant what I was supposed to do for the homework and was pretty unclear but I understand what the code is saying."
   ]
  },
  {
   "cell_type": "code",
   "execution_count": 5,
   "metadata": {},
   "outputs": [
    {
     "name": "stdout",
     "output_type": "stream",
     "text": [
      "[0, 2, 4, 6, 8, 10]\n"
     ]
    }
   ],
   "source": [
    "numbers = [0,1,2,3,4,5,6,7,8,9,10]\n",
    "evens = []\n",
    "\n",
    "for i in numbers:\n",
    "    if (numbers[i] % 2 == 0):\n",
    "        evens.append(numbers[i])\n",
    "\n",
    "print(evens)\n"
   ]
  },
  {
   "cell_type": "code",
   "execution_count": 6,
   "metadata": {},
   "outputs": [
    {
     "name": "stdout",
     "output_type": "stream",
     "text": [
      "*\n",
      "**\n",
      "***\n",
      "****\n",
      "*****\n"
     ]
    }
   ],
   "source": [
    "i = 1\n",
    "starString = \"*\"\n",
    "while i <= 5:\n",
    "  j = 1\n",
    "  while j <= i:\n",
    "    print (\"*\", end= \"\")\n",
    "    j += 1\n",
    "  print ()\n",
    "  i += 1"
   ]
  },
  {
   "cell_type": "markdown",
   "metadata": {},
   "source": [
    "For video 2 hacks I actually did the work for the questions and was fairly easy not taking to much time \n",
    "\n",
    "given the following code segment below:\n",
    "a ⟵ 7\n",
    "\n",
    "b ⟵ 1\n",
    "\n",
    "c ⟵ 3\n",
    "\n",
    "d ⟵ 4\n",
    "\n",
    "a ⟵ b\n",
    "\n",
    "b ⟵ c + d\n",
    "\n",
    "d ⟵ b\n",
    "\n",
    "find the value for a, b, c, d\n",
    "a = 1 b = 7 c = 3 d = 7\n",
    "\n",
    "Sequencing was fairly easy too I got the answer correct and was not a challenge. It is good practice though"
   ]
  },
  {
   "cell_type": "code",
   "execution_count": 4,
   "metadata": {},
   "outputs": [
    {
     "name": "stdout",
     "output_type": "stream",
     "text": [
      "6 11\n"
     ]
    }
   ],
   "source": [
    "num1 = 3\n",
    "num2 = 1\n",
    "num3 = 5\n",
    "num1 = num2 + num3      \n",
    "num2 = num1 + num3    \n",
    "\n",
    "print(num1,num2)"
   ]
  },
  {
   "cell_type": "markdown",
   "metadata": {},
   "source": [
    "### 3.4 Video 1 Hacks\n",
    "\n",
    "This was fairly easy again not much challenge and didn't take me long to complete\n",
    "\n",
    "Test 1\n",
    "\n",
    "firstName <- \"Bob\"\n",
    "lastName <- \"Smith\"\n",
    "var <- substring(firstName, 1, 1)\n",
    "name <- concat(lastName, var)\n",
    "email <- concat(name, \"@gmail.com\")\n",
    "DISPLAY(email)\n",
    "\n",
    "Answer = SmithB@gmail.com\n",
    "\n",
    "Test 2\n",
    "\n",
    "word1 <- \"computer\"\n",
    "word2 <- \"textbooks\"\n",
    "length1 <- len(word1)/2\n",
    "length2 <- len(word2)/3\n",
    "first <- substring(word1, 2, len1)\n",
    "second <- substring(word2, len2+3, len2)\n",
    "newWord <- concat(first, second)\n",
    "DISPLAY(newWord)\n",
    "\n",
    "Answer = ompuook\n"
   ]
  },
  {
   "cell_type": "markdown",
   "metadata": {},
   "source": [
    "## Barn homework and Hacks\n",
    "\n",
    "This is my blog for the Barn homework and hack and my answers to the questions.\n",
    "\n",
    "### 3.5 Note Hacks\n",
    "\n",
    "These are just some of the homework and hacks though all of the videos for Barn \n",
    "\n",
    "1. 90(D) = 1000(B)\n",
    "\n",
    "A. True\n",
    "B. False\n",
    "\n",
    "Answer - False\n",
    "\n",
    "2. 10(D) ≠ 0110(B)\n",
    "\n",
    "A. True\n",
    "B. False\n",
    "\n",
    "Answer - True\n",
    "\n",
    "3. 56(D) ≥ 111000(B)\n",
    "\n",
    "A. True\n",
    "B. False\n",
    "\n",
    "Answer - True\n",
    "\n",
    "3. 99(D) < 1110011(B)\n",
    "\n",
    "A. True\n",
    "B. False\n",
    "\n",
    "Answer - True\n",
    "\n"
   ]
  },
  {
   "cell_type": "markdown",
   "metadata": {},
   "source": [
    "### Binary Table\n",
    "\n",
    "This is the Binary Table for the Hacks and Homework that took me a while to do."
   ]
  },
  {
   "cell_type": "markdown",
   "metadata": {},
   "source": [
    "<html>\n",
    "<style>\n",
    "    table, th, td { \n",
    "        border:2px solid white;\n",
    "    }\n",
    "</style>\n",
    "    <div>AND Operator</div>\n",
    "    <div>\n",
    "        <table>\n",
    "            <tr>\n",
    "                <th>Value 1</th>\n",
    "                <th>Value 2</th>\n",
    "                <th>Result</th>\n",
    "            </tr>\n",
    "            <tr>\n",
    "                <td>1</td>\n",
    "                <td>1</td>\n",
    "                <td>1</td>\n",
    "            </tr>\n",
    "            <tr>\n",
    "                <td>1</td>\n",
    "                <td>0</td>\n",
    "                <td>0</td>\n",
    "            </tr>\n",
    "            <tr>\n",
    "                <td>0</td>\n",
    "                <td>1</td>\n",
    "                <td>0</td>\n",
    "            </tr>\n",
    "            <tr>\n",
    "                <td>0</td>\n",
    "                <td>0</td>\n",
    "                <td>0</td>\n",
    "            </tr>\n",
    "        </table>\n",
    "    </div>\n",
    "    <div>OR Operator</div>\n",
    "    <div>\n",
    "        <table>\n",
    "            <tr>\n",
    "                <th>Value 1</th>\n",
    "                <th>Value 2</th>\n",
    "                <th>Result</th>\n",
    "            </tr>\n",
    "            <tr>\n",
    "                <td>1</td>\n",
    "                <td>1</td>\n",
    "                <td>1</td>\n",
    "            </tr>\n",
    "            <tr>\n",
    "                <td>1</td>\n",
    "                <td>0</td>\n",
    "                <td>1</td>\n",
    "            </tr>\n",
    "            <tr>\n",
    "                <td>0</td>\n",
    "                <td>1</td>\n",
    "                <td>1</td>\n",
    "            </tr>\n",
    "            <tr>\n",
    "                <td>0</td>\n",
    "                <td>0</td>\n",
    "                <td>0</td>\n",
    "            </tr>\n",
    "        </table>\n",
    "    </div>\n",
    "    <div>Not operator</div>\n",
    "    <div>\n",
    "        <table>\n",
    "            <tr>\n",
    "                <th>Not</th>\n",
    "                <th>Value</th>\n",
    "                <th>Result</th>\n",
    "            </tr>\n",
    "            <tr>\n",
    "                <td>Not</td>\n",
    "                <td>1</td>\n",
    "                <td>0</td>\n",
    "            </tr>\n",
    "            <tr>\n",
    "                <td>Not</td>\n",
    "                <td>0</td>\n",
    "                <td>1</td>\n",
    "            </tr>\n",
    "        </table>\n",
    "    </div>\n",
    "</html>"
   ]
  },
  {
   "cell_type": "markdown",
   "metadata": {},
   "source": [
    "### Barn Python Practice"
   ]
  },
  {
   "cell_type": "code",
   "execution_count": null,
   "metadata": {},
   "outputs": [],
   "source": [
    "# Testing out relational operators\n",
    "# Practice with these statements\n",
    "\n",
    "print(20 == 20) # How can you change the operator to print a value of False?\n",
    "\n",
    "x = 30\n",
    "y = 20\n",
    "z = 10\n",
    "print(x > y + z) # How can this return true by only manipulating the operator?\n",
    "\n",
    "# Manipulate the variables x, y, and z to make the below statement return true\n",
    "print(x == z)"
   ]
  },
  {
   "cell_type": "markdown",
   "metadata": {},
   "source": [
    "The answer is \n",
    "True\n",
    "False\n",
    "False\n",
    "\n",
    "\n",
    "### AP Prep Homework & Hacks\n",
    "\n",
    "**1. What is displayed by this code?**\n",
    "- result <-- 75\n",
    "- IF result < 80 {\n",
    "    DISPLAY(\"Please schedule a retake.\")\n",
    "}\n",
    "- ELSE {\n",
    "    DISPLAY(\"Nice job!\")\n",
    "}\n",
    "\n",
    "1. Nice job!\n",
    "2. Display\n",
    "3. Please schedule a retake.\n",
    "4. 75\n",
    "\n",
    "Answer - 3. Please schedule a retake\n",
    "\n",
    "\n",
    "**2. How is an if statement different from an if-else statement.**\n",
    "\n",
    "1. Extra words.\n",
    "2. An if statement will only go through a process if a condition is met. An if-else statement will go through code no matter the conditions.\n",
    "3. They are the exact same.\n",
    "4. An if statement will go through the entire code segment every single time and the if-else statement is always used in an algorithm, no matter the conditions.\n",
    "\n",
    "Answer - 2. An if statement will only go through a process if a condition is met. An if-else statement will go through code no matter the conditions.\n",
    "\n",
    "\n",
    "**3. What would be most appropriate for this situation? Ben wants to check his bank account. If his car fuel is full, he will go to the bank. Otherwise, he will go home. If he goes to the bank, he will withdraw money only if his balance is above $1000.**\n",
    "\n",
    "1. If statement\n",
    "2. If-else statement\n",
    "\n",
    "Answer - 2. If-else statement\n",
    "\n",
    "**4. What would be most appropriate for this situation? Luke wants to play basketball. If it is sunny outside he will go to the park to play basketball.**\n",
    "\n",
    "1. If statement\n",
    "2. If-else statement\n",
    "\n",
    "Answer - 1. If statement\n",
    "\n"
   ]
  },
  {
   "cell_type": "markdown",
   "metadata": {},
   "source": [
    "### Using Python Code\n",
    "\n",
    "This is me messing around with the if-else statements and just add some suff with the code"
   ]
  },
  {
   "cell_type": "code",
   "execution_count": null,
   "metadata": {},
   "outputs": [],
   "source": [
    "animals = [\"snake\", \"rat\", \"bird\", \"Humans\", \"jellyfish\"]\n",
    "\n",
    "for i in animals:\n",
    "    if i == \"snake\": # What boolean value does this statement cause?\n",
    "        print(\"A snake lives in the desert\")\n",
    "    else:\n",
    "        if i == \"rat\": # What boolean value does this statement cause?\n",
    "            print(\"The rat is alive\")\n",
    "        else:\n",
    "            \n",
    "            print(\"Jellyfish sucks\")\n",
    "\n",
    "\n",
    "# Practice\n",
    "# Using only one more if statement, alter the code to print out a statement saying if an animal lives in the desert, based on booleans"
   ]
  },
  {
   "cell_type": "markdown",
   "metadata": {},
   "source": [
    "### 3.7 Hacks homework\n",
    "\n",
    "This is my dictionary for the Exercise\n",
    "\n",
    "#### Exercise 1\n",
    "- Create dictionaries for multiple food items, with the listed specifications\n",
    "    - Chicken Alfredo, Meat: Chicken, Time to Prepare: 60 minutes\n",
    "    - Cheese Quesadilla, Meat: None, Time to Prepare: 10 minutes\n",
    "    - Beef Wellington, Meat: Beef, Time to Prepare: 150 minutes\n",
    "- Used nested conditionals, determine which meal you can cook, given that a) you have no meat at home, and b) you only have 30 minutes to make the meal"
   ]
  },
  {
   "cell_type": "code",
   "execution_count": 2,
   "metadata": {},
   "outputs": [
    {
     "name": "stdout",
     "output_type": "stream",
     "text": [
      "You don't have enough time for chicken alfredo\n",
      "cheese quesadilla is good for how much time you have\n",
      "You don't have enough time for beef wellington\n"
     ]
    }
   ],
   "source": [
    "chickendict = {\n",
    "  \"meat\": True,\n",
    "  \"prepareTime\": 60,\n",
    "  \"name\" : \"chicken alfredo\",\n",
    "}\n",
    "\n",
    "cheesedict = {\n",
    "  \"meat\": False,\n",
    "  \"prepareTime\": 10,\n",
    "  \"name\" : \"cheese quesadilla\",\n",
    "}\n",
    "\n",
    "beefdict = {\n",
    "  \"meat\": True,\n",
    "  \"prepareTime\": 150,\n",
    "  \"name\" : \"beef wellington\",\n",
    "}\n",
    "\n",
    "\n",
    "def mealPrep(prep):\n",
    "  if prep[\"prepareTime\"] <= 30:\n",
    "    if prep[\"meat\"] == False:\n",
    "      print(prep[\"name\"], \"is good for how much time you have\")\n",
    "    else:\n",
    "      print(\"You have no meat you can't make\", prep[\"name\"])\n",
    "  else:\n",
    "    print(\"You don't have enough time for\", prep[\"name\"])\n",
    "\n",
    "mealPrep(chickendict)\n",
    "mealPrep(cheesedict)\n",
    "mealPrep(beefdict)"
   ]
  },
  {
   "cell_type": "markdown",
   "metadata": {},
   "source": [
    "## PGK Homework and Hacks\n",
    "\n",
    "I did these homework and hacks it took me some time but was not to hard but was good.\n",
    "\n",
    "\n",
    "### Quiz on the Website\n",
    "\n",
    "This is my homework and hacks and Question 2 and 3 I got wrong and were challenging for me.\n",
    "\n",
    "![]({{site.baseurl }}/images/Question 2,3.png)\n",
    "\n",
    "These were my problems and were the ones I really didn't know. I knew the rest knowing them mostly."
   ]
  },
  {
   "cell_type": "markdown",
   "metadata": {},
   "source": [
    "## Exercise for PGK\n",
    "These were the Exercise for the homeworks and hacks"
   ]
  },
  {
   "cell_type": "code",
   "execution_count": 1,
   "metadata": {},
   "outputs": [
    {
     "name": "stdout",
     "output_type": "stream",
     "text": [
      "Sorted Lists [5, 4, 3, 2, 1]\n"
     ]
    }
   ],
   "source": [
    "list = [1, 2, 3, 4, 5]\n",
    "\n",
    "list.reverse()\n",
    "\n",
    "print(\"Sorted Lists\", list)"
   ]
  },
  {
   "cell_type": "code",
   "execution_count": 2,
   "metadata": {},
   "outputs": [
    {
     "name": "stdout",
     "output_type": "stream",
     "text": [
      "Sorted Lists [0, 1, 2, 3, 4, 5, 6, 7, 8, 9]\n"
     ]
    }
   ],
   "source": [
    "list = [9, 8, 4, 3, 5, 2, 6, 7, 1, 0]\n",
    "\n",
    "list.sort()\n",
    "\n",
    "print(\"Sorted Lists\", list)"
   ]
  }
 ],
 "metadata": {
  "kernelspec": {
   "display_name": "Python 3.10.6 64-bit",
   "language": "python",
   "name": "python3"
  },
  "language_info": {
   "codemirror_mode": {
    "name": "ipython",
    "version": 3
   },
   "file_extension": ".py",
   "mimetype": "text/x-python",
   "name": "python",
   "nbconvert_exporter": "python",
   "pygments_lexer": "ipython3",
   "version": "3.10.6"
  },
  "orig_nbformat": 4,
  "vscode": {
   "interpreter": {
    "hash": "dcd4837add793386cd67e25a441830de5b4a5ceabdd5dcba5a317ceae751db5e"
   }
  }
 },
 "nbformat": 4,
 "nbformat_minor": 2
}
