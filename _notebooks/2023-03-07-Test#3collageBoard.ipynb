{
 "cells": [
  {
   "attachments": {},
   "cell_type": "markdown",
   "metadata": {},
   "source": [
    "# Collage Board Test #3 Reflection\n",
    "\n",
    "toc: false\n",
    "layout: base\n",
    "badges: true\n",
    "comments: true\n",
    "categories: [week 25]"
   ]
  },
  {
   "attachments": {},
   "cell_type": "markdown",
   "metadata": {},
   "source": [
    "## Overview of the Test\n",
    "\n",
    "The test was not to bad overall and I didn't have that bad of a time doing the test. After i did the test I looked over some of the questions that I got wrong and some of them were not reading the whole answer and simple mistake but others were actual mistakes and didn't understand/know what or how to do the question. The whole test took me about 1 hour and allowed me to really get an understnanding of what I need to learn and know for the Ap test\n",
    "\n",
    "## My Final test Score\n",
    "![](CSPtestscore.png)"
   ]
  },
  {
   "attachments": {},
   "cell_type": "markdown",
   "metadata": {},
   "source": [
    "### Question 6\n",
    "![](CSPquestion6.png)\n",
    "\n",
    "I had no clue what this was and I really guessed for this question because I really didn't know how to find the answer for this and will have to look at more of these and kinda study this question to make sure I get it correct on the AP test\n",
    "\n",
    "### Question 18\n",
    "![](CSPquestion18.png)\n",
    "\n",
    "This question i went though it way to fast and read the question wrong and this one was also pretty simple but I did get this one wrong and I need to make sure i don't make mistakes in the future\n",
    "\n",
    "### Question 21\n",
    "![](CSPquestion21.png)\n",
    "\n",
    "This was another one of the simple mistake that I did though the test and this one was super easy looking back at the question and I am kinda mad at myself that I didn't do better and get the answer correct because this was a very short sequence and not that complex.\n",
    "\n",
    "\n",
    "### Question 36\n",
    "![](CSPquestion36.png)\n",
    "\n",
    "This question was pretty hard for me and I had a challenging time with this question, it probally took me around 10 minutes to try and understand this question and what was happening and I though that I got itcorrect and figured it out but it wasn't correct and I got it wrong\n",
    "\n",
    "### Question 39\n",
    "![](CSPquestion39.png)\n",
    "\n",
    "This question was not hard for me and I really understood how to do it I just made a simple mistake and feel really stupid because the robot questions are really easy for me and I have a good understanding of this question I just need to slow down and take my time in order to read the question correct and get the right answer"
   ]
  },
  {
   "attachments": {},
   "cell_type": "markdown",
   "metadata": {},
   "source": [
    "\n"
   ]
  }
 ],
 "metadata": {
  "kernelspec": {
   "display_name": "Python 3",
   "language": "python",
   "name": "python3"
  },
  "language_info": {
   "name": "python",
   "version": "3.10.6"
  },
  "orig_nbformat": 4,
  "vscode": {
   "interpreter": {
    "hash": "dcd4837add793386cd67e25a441830de5b4a5ceabdd5dcba5a317ceae751db5e"
   }
  }
 },
 "nbformat": 4,
 "nbformat_minor": 2
}
