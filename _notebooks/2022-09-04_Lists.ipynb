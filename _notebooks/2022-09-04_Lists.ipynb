{
 "cells": [
  {
   "cell_type": "markdown",
   "metadata": {},
   "source": [
    "# Lists and Dictionary\n",
    "\n",
    "- toc: true\n",
    "- title: Lists and Dictionary\n",
    "- badges: true\n",
    "- comments: true\n",
    "- categories: [Newcode, Week 2]\n",
    "- author: Caleb Navarro\n"
   ]
  },
  {
   "cell_type": "markdown",
   "metadata": {},
   "source": [
    "## My list and dictionary\n",
    "\n",
    "I switched it up and made some lists and dictionaries\n",
    "\n",
    "These are just the Questions\n"
   ]
  },
  {
   "cell_type": "code",
   "execution_count": 19,
   "metadata": {},
   "outputs": [
    {
     "name": "stdout",
     "output_type": "stream",
     "text": [
      "['What is your first name?', 'how Old are you?', 'What is your favorite food?', 'What is your favorite color?', 'What is your favorite place?', 'who are your friends']\n"
     ]
    }
   ],
   "source": [
    "questions = [\n",
    "    \"What is your first name?\",\n",
    "    \"How Old are you?\",\n",
    "    \"What is your favorite food?\",\n",
    "    \"What is your favorite color?\",\n",
    "    \"What is your favorite place?\",\n",
    "    \"who are your friends\",\n",
    "]\n",
    "print(questions)\n"
   ]
  },
  {
   "cell_type": "markdown",
   "metadata": {},
   "source": []
  },
  {
   "cell_type": "markdown",
   "metadata": {},
   "source": [
    "## Questions with Answers\n",
    "\n",
    "These questiona are the ones with answers"
   ]
  },
  {
   "cell_type": "code",
   "execution_count": 33,
   "metadata": {},
   "outputs": [
    {
     "name": "stdout",
     "output_type": "stream",
     "text": [
      "What is your first name?\n",
      "Big Man Nathan\n",
      "How old are you?\n",
      "16\n",
      "What is your favorite Food\n",
      "Pizza\n",
      "How old are you?\n",
      "Hot pink\n",
      "What is your favoirte place\n",
      "Europe\n",
      "Who are your friends\n",
      "The leader of the friend group, Gene, Caleb\n",
      "Is this you?\n",
      "{'Your Name': 'Big Man Nathan', 'Your Age': '16', 'Favorite Food': 'Pizza', 'Favorite Place': 'Europe', 'Your Friends': 'The leader of the friend group, Gene, Caleb'}\n"
     ]
    }
   ],
   "source": [
    "print(\"What is your first name?\")\n",
    "name = \"Big Man Nathan\"\n",
    "print(name)\n",
    "\n",
    "\n",
    "print(\"How old are you?\")\n",
    "age = \"16\"\n",
    "print(age)\n",
    "\n",
    "\n",
    "# variable of type integer\n",
    "print(\"What is your favorite Food\")\n",
    "food = \"Pizza\"\n",
    "print(food)\n",
    "\n",
    "\n",
    "print(\"How old are you?\")\n",
    "color = \"Hot pink\"\n",
    "print(color)\n",
    "\n",
    "\n",
    "# variable of type float\n",
    "print(\"What is your favoirte place\")\n",
    "place = \"Europe\"\n",
    "print(place)\n",
    "\n",
    "\n",
    "# variable of type list (many values in one variable)\n",
    "print(\"Who are your friends\")\n",
    "friends = \"The leader of the friend group, Gene, Caleb\"\n",
    "print(friends)\n",
    "\n",
    "\n",
    "# variable of type dictionary (a group of keys and values)\n",
    "print(\"Is this you?\")\n",
    "person = {\n",
    "    \"Your Name\": name,\n",
    "\n",
    "    \"Your Age\": age,\n",
    "\n",
    "    \"Favorite Food\": food,\n",
    "\n",
    "    \"Favorite Place\": place,\n",
    "\n",
    "    \"Your Friends\": friends\n",
    "}\n",
    "print(person)"
   ]
  },
  {
   "cell_type": "code",
   "execution_count": 1,
   "metadata": {},
   "outputs": [
    {
     "name": "stdout",
     "output_type": "stream",
     "text": [
      "[{'FirstName': 'Caleb', 'LastName': 'Navarro', 'age': '16', 'DOB': 'April 14', 'Residence': 'San Diego', 'Email': 'caleb.evan.navarro@gmail.com', 'Owns_Cars': ['Bugatti La Voiture Noire', 'Audi A4']}, {'FirstName': 'Billy', 'LastName': 'Bob', 'age': '21', 'DOB': 'December 21', 'Residence': 'Europe', 'Email': 'bigboybilly@gmail.com', 'Owns_Cars': ['Tesla']}, {'FirstName': 'Nathan', 'LastName': 'Capule', 'age': '16', 'DOB': 'July 8', 'Residence': 'Star Killer Base', 'Email': 'plrttapotty@gmail.com', 'Owns_Cars': ['2019 Lamborghini Huracan Performante, Gerald R. Ford-class aircraft carrier, Starship']}]\n",
      "For loop output\n",
      "\n",
      "Caleb Navarro\n",
      "\t age: 16\n",
      "\t Residence: San Diego\n",
      "\t Birth Day: April 14\n",
      "\t Cars: Bugatti La Voiture Noire, Audi A4\n",
      "\n",
      "Billy Bob\n",
      "\t age: 21\n",
      "\t Residence: Europe\n",
      "\t Birth Day: December 21\n",
      "\t Cars: Tesla\n",
      "\n",
      "Nathan Capule\n",
      "\t age: 16\n",
      "\t Residence: Star Killer Base\n",
      "\t Birth Day: July 8\n",
      "\t Cars: 2019 Lamborghini Huracan Performante, Gerald R. Ford-class aircraft carrier, Starship\n",
      "\n"
     ]
    }
   ],
   "source": [
    "InfoDb = []\n",
    "\n",
    "# InfoDB is a data structure with expected Keys and Values\n",
    "\n",
    "# Append to List a Dictionary of key/values related to a person and cars\n",
    "InfoDb.append({\n",
    "    \"FirstName\": \"Caleb\",\n",
    "    \"LastName\": \"Navarro\",\n",
    "    \"age\": \"16\",\n",
    "    \"DOB\": \"April 14\",\n",
    "    \"Residence\": \"San Diego\",\n",
    "    \"Email\": \"caleb.evan.navarro@gmail.com\",\n",
    "    \"Owns_Cars\": [\"Bugatti La Voiture Noire\", \"Audi A4\"]\n",
    "})\n",
    "\n",
    "# Append to List a 2nd Dictionary of key/values\n",
    "InfoDb.append({\n",
    "    \"FirstName\": \"Billy\",\n",
    "    \"LastName\": \"Bob\",\n",
    "    \"age\": \"21\",\n",
    "    \"DOB\": \"December 21\",\n",
    "    \"Residence\": \"Europe\",\n",
    "    \"Email\": \"bigboybilly@gmail.com\",\n",
    "    \"Owns_Cars\": [\"Tesla\"]\n",
    "})\n",
    "\n",
    "InfoDb.append({\n",
    "    \"FirstName\": \"Nathan\",\n",
    "    \"LastName\": \"Capule\",\n",
    "    \"age\": \"16\",\n",
    "    \"DOB\": \"July 8\",\n",
    "    \"Residence\": \"Star Killer Base\",\n",
    "    \"Email\": \"plrttapotty@gmail.com\",\n",
    "    \"Owns_Cars\": [\"2019 Lamborghini Huracan Performante, Gerald R. Ford-class aircraft carrier, Starship\"]\n",
    "})\n",
    "\n",
    "# Print the data structure\n",
    "print(InfoDb)\n",
    "\n",
    "def print_data(d_rec):\n",
    "    print(d_rec[\"FirstName\"], d_rec[\"LastName\"])  # using comma puts space between values\n",
    "    print(\"\\t\", \"age:\", d_rec[\"age\"])\n",
    "    print(\"\\t\", \"Residence:\", d_rec[\"Residence\"]) # \\t is a tab indent\n",
    "    print(\"\\t\", \"Birth Day:\", d_rec[\"DOB\"])\n",
    "    print(\"\\t\", \"Cars: \", end=\"\")  # end=\"\" make sure no return occurs\n",
    "    print(\", \".join(d_rec[\"Owns_Cars\"]))  # join allows printing a string list with separator\n",
    "    print()\n",
    "\n",
    "\n",
    "# for loop algorithm iterates on length of InfoDb\n",
    "def for_loop():\n",
    "    print(\"For loop output\\n\")\n",
    "    for record in InfoDb:\n",
    "        print_data(record)\n",
    "\n",
    "for_loop()\n",
    "\n"
   ]
  },
  {
   "cell_type": "code",
   "execution_count": 1,
   "metadata": {},
   "outputs": [
    {
     "name": "stdout",
     "output_type": "stream",
     "text": [
      "Question: How has your day been today?\n",
      "Answer: \n",
      "Question: Do you have friends?\n",
      "Answer: \n",
      "Question: Do you like ice cream\n",
      "Answer: \n",
      "Hello, Caleb running c:\\Users\\Caleb\\AppData\\Local\\Programs\\Python\\Python310\\python.exe\n",
      "You will be asked 3 questions.\n",
      "Question: Are you ready for some questions?\n",
      "Answer: \n",
      "Question: what is 10+6?\n",
      " is incorrect!\n",
      "Question: What many tacos should you eat a day?\n",
      " is incorrect!\n",
      "Question: From 1 to 10 how hot is toby?\n",
      " is incorrect!\n",
      "Caleb you scored 0/3\n"
     ]
    }
   ],
   "source": [
    "## Test\n",
    "\n",
    "import getpass, sys\n",
    "\n",
    "questions = 3\n",
    "correct = 0\n",
    "\n",
    "def question_with_response(prompt):\n",
    "    print(\"Question: \" + prompt)\n",
    "    msg = input()\n",
    "    return msg\n",
    "\n",
    "def question_and_answer(prompt):\n",
    "    print(\"Question: \" + prompt)\n",
    "    msg = input()\n",
    "    print(\"Answer: \" + msg)\n",
    "\n",
    "question_and_answer(\"How has your day been today?\")\n",
    "question_and_answer(\"Do you have friends?\")\n",
    "question_and_answer(\"Do you like ice cream\")\n",
    "\n",
    "print('Hello, ' + getpass.getuser() + \" running \" + sys.executable)\n",
    "print(\"You will be asked \" + str(questions) + \" questions.\")\n",
    "question_and_answer(\"Are you ready for some questions?\")\n",
    "\n",
    "\n",
    "rsp = question_with_response(\"what is 10+6?\")\n",
    "if rsp == \"16\":\n",
    "    print(rsp + \" is correct!\")\n",
    "    correct += 1\n",
    "else:\n",
    "    print(rsp + \" is incorrect!\")\n",
    "\n",
    "rsp = question_with_response(\"What many tacos should you eat a day?\")\n",
    "if rsp == \"42,069\":\n",
    "    print(rsp + \" is correct!\")\n",
    "    correct += 1\n",
    "else:\n",
    "    print(rsp + \" is incorrect!\")\n",
    "\n",
    "rsp = question_with_response(\"From 1 to 10 how hot is toby?\")\n",
    "if rsp == \"69\":\n",
    "    print(rsp + \" is correct!\")\n",
    "    correct += 1\n",
    "else:\n",
    "    print(rsp + \" is incorrect!\")\n",
    "\n",
    "print(getpass.getuser() + \" you scored \" + str(correct) +\"/\" + str(questions))\n"
   ]
  }
 ],
 "metadata": {
  "kernelspec": {
   "display_name": "Python 3.10.6 64-bit",
   "language": "python",
   "name": "python3"
  },
  "language_info": {
   "codemirror_mode": {
    "name": "ipython",
    "version": 3
   },
   "file_extension": ".py",
   "mimetype": "text/x-python",
   "name": "python",
   "nbconvert_exporter": "python",
   "pygments_lexer": "ipython3",
   "version": "3.10.6"
  },
  "orig_nbformat": 4,
  "vscode": {
   "interpreter": {
    "hash": "dcd4837add793386cd67e25a441830de5b4a5ceabdd5dcba5a317ceae751db5e"
   }
  }
 },
 "nbformat": 4,
 "nbformat_minor": 2
}
