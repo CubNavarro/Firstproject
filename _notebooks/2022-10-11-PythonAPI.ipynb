{
 "cells": [
  {
   "cell_type": "markdown",
   "metadata": {},
   "source": [
    "# Python API practice\n",
    "> Practice with API\n",
    "\n",
    "- permalink: /API/PythonAPI\n",
    "- toc: true\n",
    "- title: Python API\n",
    "- badges: true\n",
    "- comments: true\n",
    "- categories: [Week 7]"
   ]
  },
  {
   "cell_type": "code",
   "execution_count": 23,
   "metadata": {},
   "outputs": [
    {
     "name": "stdout",
     "output_type": "stream",
     "text": [
      "NFL Scheduled games\n",
      "Indianapolis Colts at Denver Broncos\n",
      "New York Giants at Green Bay Packers\n",
      "Pittsburgh Steelers at Buffalo Bills\n",
      "Los Angeles Chargers at Cleveland Browns\n",
      "Chicago Bears at Minnesota Vikings\n",
      "Detroit Lions at New England Patriots\n",
      "Seattle Seahawks at New Orleans Saints\n",
      "Miami Dolphins at New York Jets\n",
      "Atlanta Falcons at Tampa Bay Buccaneers\n",
      "Tennessee Titans at Washington Commanders\n",
      "Houston Texans at Jacksonville Jaguars\n",
      "San Francisco 49ers at Carolina Panthers\n",
      "Dallas Cowboys at Los Angeles Rams\n",
      "Philadelphia Eagles at Arizona Cardinals\n",
      "Cincinnati Bengals at Baltimore Ravens\n",
      "Las Vegas Raiders at Kansas City Chiefs\n"
     ]
    }
   ],
   "source": [
    "import requests\n",
    "\n",
    "url = \"https://nfl-schedule.p.rapidapi.com/v1/schedules\"\n",
    "\n",
    "headers = {\n",
    "\t\"X-RapidAPI-Key\": \"7d3a48cfe5msh3e8d80273f9e62ap1ac0b4jsn5db7034eaa7e\",\n",
    "\t\"X-RapidAPI-Host\": \"nfl-schedule.p.rapidapi.com\"\n",
    "}\n",
    "\n",
    "response = requests.request(\"GET\", url, headers=headers)\n",
    "\n",
    "\n",
    "print(\"NFL Scheduled games\")\n",
    "\n",
    "x = 0\n",
    "\n",
    "while x <= 15:\n",
    "\tprint(response.json().get(\"data\")[x].get(\"name\"))\n",
    "\tx += 1\n",
    "\n",
    "\n"
   ]
  }
 ],
 "metadata": {
  "kernelspec": {
   "display_name": "Python 3",
   "language": "python",
   "name": "python3"
  },
  "language_info": {
   "codemirror_mode": {
    "name": "ipython",
    "version": 3
   },
   "file_extension": ".py",
   "mimetype": "text/x-python",
   "name": "python",
   "nbconvert_exporter": "python",
   "pygments_lexer": "ipython3",
   "version": "3.10.6 (tags/v3.10.6:9c7b4bd, Aug  1 2022, 21:53:49) [MSC v.1932 64 bit (AMD64)]"
  },
  "orig_nbformat": 4,
  "vscode": {
   "interpreter": {
    "hash": "dcd4837add793386cd67e25a441830de5b4a5ceabdd5dcba5a317ceae751db5e"
   }
  }
 },
 "nbformat": 4,
 "nbformat_minor": 2
}
