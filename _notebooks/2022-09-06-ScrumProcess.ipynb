{
 "cells": [
  {
   "cell_type": "markdown",
   "metadata": {},
   "source": [
    "# Scrum Process\n",
    "\n",
    "- toc: true\n",
    "- title: Scrum Process\n",
    "- badges: true\n",
    "- comments: true\n",
    "- categories: [Newcode, Week 2]\n",
    "- author: Caleb Navarro"
   ]
  },
  {
   "cell_type": "markdown",
   "metadata": {},
   "source": [
    "## Our Idea\n",
    "\n",
    "Our idea is to make the game chess and have two differnet game modes one with regulr chess and one with a customizeable game where you can pick your pieces"
   ]
  },
  {
   "cell_type": "markdown",
   "metadata": {},
   "source": [
    "## Group Memebers\n",
    "\n",
    "Scrum Master - Toby\n",
    "\n",
    "Frontend - Nathan\n",
    "\n",
    "Backend - Caleb\n",
    "\n",
    "Dev ops - Gene"
   ]
  },
  {
   "cell_type": "markdown",
   "metadata": {},
   "source": [
    "## Jobs\n",
    "\n",
    "Scrum Master makes sure the group is on task and that everyone is working on the correct part and the work is up to standard. \n",
    "\n",
    "Frontend makes sure the visual appearance is good and more on the \n",
    "\n",
    "Upfront things you see. Backend works more on the back end code \n",
    "\n",
    "Dev Ops makes sure the code is correct and making sure pushed code is correct and is working. Also "
   ]
  }
 ],
 "metadata": {
  "kernelspec": {
   "display_name": "Python 3.8.10 64-bit",
   "language": "python",
   "name": "python3"
  },
  "language_info": {
   "name": "python",
   "version": "3.8.10"
  },
  "orig_nbformat": 4,
  "vscode": {
   "interpreter": {
    "hash": "916dbcbb3f70747c44a77c7bcd40155683ae19c65e1c03b4aa3499c5328201f1"
   }
  }
 },
 "nbformat": 4,
 "nbformat_minor": 2
}
