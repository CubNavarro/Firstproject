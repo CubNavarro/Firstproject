{
 "cells": [
  {
   "cell_type": "markdown",
   "metadata": {},
   "source": [
    "# Scrum Process\n",
    "\n",
    "- toc: true\n",
    "- title: Scrum Process\n",
    "- badges: true\n",
    "- comments: true\n",
    "- categories: [Week 5]\n",
    "- author: Caleb Navarro"
   ]
  },
  {
   "cell_type": "markdown",
   "metadata": {},
   "source": [
    "## Our Idea\n",
    "\n",
    "Our idea is to make the game chess and have two differnet game modes one with regulr chess and one with a customizeable game where you can pick your pieces"
   ]
  },
  {
   "cell_type": "markdown",
   "metadata": {},
   "source": [
    "## Group Memebers\n",
    "\n",
    "Scrum Master - Toby\n",
    "\n",
    "Frontend - Nathan\n",
    "\n",
    "Backend - Caleb\n",
    "\n",
    "Dev ops - Gene"
   ]
  },
  {
   "cell_type": "markdown",
   "metadata": {},
   "source": [
    "## Jobs\n",
    "\n",
    "Scrum Master makes sure the group is on task and that everyone is working on the correct part and the work is up to standard. \n",
    "\n",
    "Frontend makes sure the visual appearance is good and more on the \n",
    "\n",
    "Upfront things you see. Backend works more on the back end code \n",
    "\n",
    "Dev Ops makes sure the code is correct and making sure pushed code is correct and is working. Also "
   ]
  }
 ],
 "metadata": {
  "kernelspec": {
   "display_name": "Python 3",
   "language": "python",
   "name": "python3"
  },
  "language_info": {
   "name": "python",
   "version": "3.10.6 (tags/v3.10.6:9c7b4bd, Aug  1 2022, 21:53:49) [MSC v.1932 64 bit (AMD64)]"
  },
  "orig_nbformat": 4,
  "vscode": {
   "interpreter": {
    "hash": "dcd4837add793386cd67e25a441830de5b4a5ceabdd5dcba5a317ceae751db5e"
   }
  }
 },
 "nbformat": 4,
 "nbformat_minor": 2
}
