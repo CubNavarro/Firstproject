{
  "cells": [
    {
      "cell_type": "markdown",
      "metadata": {
        "id": "aKvT3-4nKQw1"
      },
      "source": [
        "# My Bash And Tools Setup \n",
        "\n",
        "- toc: true\n",
        "- comments: true\n",
        "- permalink: /techtalk/bash\n",
        "- categories: [Newcode, Week 1]"
      ]
    },
    {
      "cell_type": "code",
      "execution_count": null,
      "metadata": {
        "colab": {
          "base_uri": "https://localhost:8080/",
          "height": 131
        },
        "id": "p5xK42AfKQw6",
        "outputId": "fdf592c6-86f8-48d8-92f8-520cc382d5c8",
        "vscode": {
          "languageId": "shellscript"
        }
      },
      "outputs": [
        {
          "ename": "",
          "evalue": "",
          "output_type": "error",
          "traceback": [
            "\u001b[1;31mThe kernel failed to start as a dll could not be loaded.\n",
            "Click <a href='https://aka.ms/kernelFailuresDllLoad'>here</a> for more info."
          ]
        }
      ],
      "source": [
        "echo \"Using conditional statement to create a project directory and project\"\n",
        "\n",
        "# Variable section\n",
        "export project_dir=$HOME/vscode  # change vscode to different name to test git clone\n",
        "export project=$project_dir/APCSP  # change APCSP to name of project from git clone\n",
        "export project_repo=\"https://github.com/nighthawkcoders/APCSP.git\"  # change to project of choice\n",
        "\n",
        "cd ~    # start in home directory\n",
        "\n",
        "# Conditional block to make a project directory\n",
        "if [ ! -d $project_dir ]\n",
        "then \n",
        "    echo \"Directory $project_dir does not exists... makinng directory $project_dir\"\n",
        "    mkdir -p $project_dir\n",
        "fi\n",
        "echo \"Directory $project_dir exists.\" \n",
        "\n",
        "# Conditional block to git clone a project from project_repo\n",
        "if [ ! -d $project ]\n",
        "then\n",
        "    echo \"Directory $project does not exists... cloning $project_repo\"\n",
        "    cd $project_dir\n",
        "    git clone $project_repo\n",
        "    cd ~\n",
        "fi\n",
        "echo \"Directory $project exists.\" "
      ]
    },
    {
      "cell_type": "code",
      "execution_count": null,
      "metadata": {
        "id": "5CYOe3llKQw8",
        "vscode": {
          "languageId": "shellscript"
        }
      },
      "outputs": [],
      "source": [
        "# You must run cells above to define variable and project\n",
        "\n",
        "echo \"Navigate to project, then navigate to area wwhere files were cloned\"\n",
        "cd $project\n",
        "pwd\n",
        "\n",
        "echo \"\"\n",
        "echo \"list top level or root of files with project pulled from github\"\n",
        "ls\n",
        "\n",
        "echo \"\"\n",
        "echo \"list again with hidden files pulled from github\"\n",
        "ls -a   # hidden files flag, many shell commands have flags\n",
        "\n",
        "echo \"\"\n",
        "echo \"list all files in long format\"\n",
        "ls -al   # all files and long listing"
      ]
    },
    {
      "cell_type": "code",
      "execution_count": null,
      "metadata": {
        "colab": {
          "base_uri": "https://localhost:8080/",
          "height": 133
        },
        "id": "bbf3NIDuKQw9",
        "outputId": "65a8f1d3-3b87-42c4-d20f-36232880a91f",
        "vscode": {
          "languageId": "shellscript"
        }
      },
      "outputs": [
        {
          "ename": "",
          "evalue": "",
          "output_type": "error",
          "traceback": [
            "\u001b[1;31mThe kernel failed to start as a dll could not be loaded.\n",
            "Click <a href='https://aka.ms/kernelFailuresDllLoad'>here</a> for more info."
          ]
        }
      ],
      "source": [
        "# You must run cells above to define variable and project\n",
        "\n",
        "echo \"Look for posts\"\n",
        "export posts=$project/_posts  # _posts inside project\n",
        "cd $posts  # this should exist per fastpages\n",
        "pwd  # present working directory\n",
        "ls -l  # list posts"
      ]
    },
    {
      "cell_type": "code",
      "execution_count": null,
      "metadata": {
        "colab": {
          "base_uri": "https://localhost:8080/",
          "height": 133
        },
        "id": "EERazineKQw9",
        "outputId": "2906ff23-c568-4e1d-b35e-9467906aa60c",
        "vscode": {
          "languageId": "shellscript"
        }
      },
      "outputs": [
        {
          "ename": "",
          "evalue": "",
          "output_type": "error",
          "traceback": [
            "\u001b[1;31mThe kernel failed to start as a dll could not be loaded.\n",
            "Click <a href='https://aka.ms/kernelFailuresDllLoad'>here</a> for more info."
          ]
        }
      ],
      "source": [
        "# You must run cells above to define variable and project\n",
        "\n",
        "echo \"Look for notebooks\"\n",
        "export notebooks=$project/_notebooks  # _notebooks is inside project\n",
        "cd $notebooks   # this should exist per fastpages\n",
        "pwd  # present working directory\n",
        "ls -l  # list notebooks"
      ]
    },
    {
      "cell_type": "code",
      "execution_count": null,
      "metadata": {
        "colab": {
          "base_uri": "https://localhost:8080/",
          "height": 133
        },
        "id": "taGGZg0hKQw-",
        "outputId": "d64f0179-a5ed-4409-f44d-dbfe00a3f479",
        "vscode": {
          "languageId": "shellscript"
        }
      },
      "outputs": [
        {
          "ename": "",
          "evalue": "",
          "output_type": "error",
          "traceback": [
            "\u001b[1;31mThe kernel failed to start as a dll could not be loaded.\n",
            "Click <a href='https://aka.ms/kernelFailuresDllLoad'>here</a> for more info."
          ]
        }
      ],
      "source": [
        "# You must run cells above to define notebooks location\n",
        "\n",
        "echo \"Look for images in notebooks, print working directory, list files\"\n",
        "cd $notebooks/images  # this should exist per fastpages\n",
        "pwd\n",
        "ls -l"
      ]
    },
    {
      "cell_type": "code",
      "execution_count": null,
      "metadata": {
        "id": "Rzu5EUoSKQw-",
        "outputId": "7a9fefe8-4fe7-42e9-a5fc-7847ba247553",
        "vscode": {
          "languageId": "shellscript"
        }
      },
      "outputs": [
        {
          "ename": "",
          "evalue": "",
          "output_type": "error",
          "traceback": [
            "\u001b[1;31mThe kernel failed to start as a dll could not be loaded.\n",
            "Click <a href='https://aka.ms/kernelFailuresDllLoad'>here</a> for more info."
          ]
        }
      ],
      "source": [
        "# You must run cells above to define project\n",
        "echo \"Navigate to project, then navigate to area wwhere files were cloned\"\n",
        "\n",
        "cd $project\n",
        "echo \"show the contents of README.md\"\n",
        "echo \"\"\n",
        "\n",
        "cat README.md  # show contents of file, in this case markdown\n",
        "echo \"\"\n",
        "echo \"end of README.md\"\n"
      ]
    },
    {
      "cell_type": "code",
      "execution_count": null,
      "metadata": {
        "id": "4B2FtLhiKQw_",
        "outputId": "575a79b3-4f13-4354-e469-ff52465e163c",
        "vscode": {
          "languageId": "shellscript"
        }
      },
      "outputs": [
        {
          "ename": "",
          "evalue": "",
          "output_type": "error",
          "traceback": [
            "\u001b[1;31mThe kernel failed to start as a dll could not be loaded.\n",
            "Click <a href='https://aka.ms/kernelFailuresDllLoad'>here</a> for more info."
          ]
        }
      ],
      "source": [
        "# This command has no dependencies\n",
        "\n",
        "echo \"Show the shell environment variables, key on left of equal value on right\"\n",
        "echo \"\"\n",
        "\n",
        "env"
      ]
    },
    {
      "cell_type": "code",
      "execution_count": null,
      "metadata": {
        "id": "9Smbp0fdKQxA",
        "outputId": "f998823d-7158-4cdc-bd5b-08bac70a3bc5",
        "vscode": {
          "languageId": "shellscript"
        }
      },
      "outputs": [
        {
          "ename": "",
          "evalue": "",
          "output_type": "error",
          "traceback": [
            "\u001b[1;31mThe kernel failed to start as a dll could not be loaded.\n",
            "Click <a href='https://aka.ms/kernelFailuresDllLoad'>here</a> for more info."
          ]
        }
      ],
      "source": [
        "# This command has dependencies on project\n",
        "\n",
        "cd $project\n",
        "\n",
        "echo \"\"\n",
        "echo \"show the secrets of .git\"\n",
        "cd .git\n",
        "ls -l\n",
        "\n",
        "echo \"\"\n",
        "echo \"look at config file\"\n",
        "cat config"
      ]
    },
    {
      "cell_type": "code",
      "execution_count": null,
      "metadata": {
        "id": "qfz6WcYEKQxB",
        "outputId": "cf418065-b830-4d6b-86f0-ab2673eb3c2a",
        "vscode": {
          "languageId": "shellscript"
        }
      },
      "outputs": [
        {
          "ename": "",
          "evalue": "",
          "output_type": "error",
          "traceback": [
            "\u001b[1;31mThe kernel failed to start as a dll could not be loaded.\n",
            "Click <a href='https://aka.ms/kernelFailuresDllLoad'>here</a> for more info."
          ]
        }
      ],
      "source": [
        "python --version\n",
        "python2 --version"
      ]
    },
    {
      "cell_type": "code",
      "execution_count": null,
      "metadata": {
        "id": "dhtyGn0dKQxC",
        "outputId": "17a9ca60-519b-41f0-842d-7b919cb49ad7",
        "vscode": {
          "languageId": "shellscript"
        }
      },
      "outputs": [
        {
          "ename": "",
          "evalue": "",
          "output_type": "error",
          "traceback": [
            "\u001b[1;31mThe kernel failed to start as a dll could not be loaded.\n",
            "Click <a href='https://aka.ms/kernelFailuresDllLoad'>here</a> for more info."
          ]
        }
      ],
      "source": [
        "conda list"
      ]
    },
    {
      "cell_type": "code",
      "execution_count": null,
      "metadata": {
        "id": "X0voR-O2KQxC",
        "outputId": "a72bd883-66e6-439c-986d-7efd4691da0f",
        "vscode": {
          "languageId": "shellscript"
        }
      },
      "outputs": [
        {
          "ename": "",
          "evalue": "",
          "output_type": "error",
          "traceback": [
            "\u001b[1;31mThe kernel failed to start as a dll could not be loaded.\n",
            "Click <a href='https://aka.ms/kernelFailuresDllLoad'>here</a> for more info."
          ]
        }
      ],
      "source": [
        "echo Conda Check\n",
        "# test for a kernel installation\n",
        "test=\"jupyter\" # keyword\n",
        "check=`conda list | grep $test` # run command\n",
        "n=${#check} # determine length\n",
        "\n",
        "if [[ ${n} > 0 ]];  # testt length\n",
        "then # greater than zero\n",
        "    echo \"$check\"\n",
        "else # less than zero\n",
        "    echo \"$test not found\"\n",
        "fi"
      ]
    },
    {
      "cell_type": "code",
      "execution_count": null,
      "metadata": {
        "id": "0-VoHeRWKQxD",
        "outputId": "890e3683-0b66-47af-b7f9-d6d60112583b",
        "vscode": {
          "languageId": "shellscript"
        }
      },
      "outputs": [
        {
          "ename": "",
          "evalue": "",
          "output_type": "error",
          "traceback": [
            "\u001b[1;31mThe kernel failed to start as a dll could not be loaded.\n",
            "Click <a href='https://aka.ms/kernelFailuresDllLoad'>here</a> for more info."
          ]
        }
      ],
      "source": [
        "jupyter --version\n",
        "jupyter kernelspec list"
      ]
    },
    {
      "cell_type": "code",
      "execution_count": null,
      "metadata": {
        "id": "o00YCt8NKQxD",
        "outputId": "5f214095-dacb-4fc2-c838-69ca05b36d23",
        "vscode": {
          "languageId": "shellscript"
        }
      },
      "outputs": [
        {
          "ename": "",
          "evalue": "",
          "output_type": "error",
          "traceback": [
            "\u001b[1;31mThe kernel failed to start as a dll could not be loaded.\n",
            "Click <a href='https://aka.ms/kernelFailuresDllLoad'>here</a> for more info."
          ]
        }
      ],
      "source": [
        "# test for a kernel installation\n",
        "test=\"python3\" # keyword\n",
        "check=`jupyter kernelspec list | grep $test` # run command\n",
        "n=${#check} # determine length\n",
        "\n",
        "if [[ ${n} > 0 ]];  # testt length\n",
        "then # greater than zero\n",
        "    echo \"$check\"\n",
        "else # less than zero\n",
        "    echo \"$test not found\"\n",
        "fi"
      ]
    }
  ],
  "metadata": {
    "colab": {
      "name": "Copy of 2022-08-22-bash-notebook.ipynb",
      "provenance": []
    },
    "kernelspec": {
      "display_name": "Bash",
      "language": "bash",
      "name": "bash"
    },
    "language_info": {
      "codemirror_mode": "shell",
      "file_extension": ".sh",
      "mimetype": "text/x-sh",
      "name": "bash"
    },
    "orig_nbformat": 4,
    "vscode": {
      "interpreter": {
        "hash": "8b82d5009c68ba5675978267e2b13a671f2a7143d61273c5a3813c97e0b2493d"
      }
    }
  },
  "nbformat": 4,
  "nbformat_minor": 0
}
