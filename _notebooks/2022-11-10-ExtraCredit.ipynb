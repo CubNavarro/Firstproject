{
 "cells": [
  {
   "cell_type": "code",
   "execution_count": null,
   "metadata": {
    "vscode": {
     "languageId": "javascript"
    }
   },
   "outputs": [],
   "source": [
    "// Clock Control\n",
    "// clockElement global element set for convenience\n",
    "let clockElement = document.getElementById('clock')\n",
    "// Execute clock function on load\n",
    "clock();\n",
    "// Clock update executes on each interval set by timer\n",
    "function clock() {\n",
    "    let date = new Date();\n",
    "    clockElement.textContent = date.toLocaleString();\n",
    "}\n",
    "// Clock refresh timer, a reoccurring event\n",
    "setInterval(clock, 1000);\n"
   ]
  },
  {
   "cell_type": "code",
   "execution_count": null,
   "metadata": {},
   "outputs": [],
   "source": [
    "import threading  # import threading\n",
    "\n",
    "def keepUpdating(): # build a function to run over and over\n",
    "# global variable setup\n",
    "global run  \n",
    "try: run\n",
    "except: run = 0\n",
    "\n",
    "print(\"Seconds:\", run)  # replace this line with updates to data\n",
    "run += 3  # this is update to global variable\n",
    "threading.Timer(3.0, keepUpdating).start()\n",
    "\n",
    "keepUpdating()  # you need to call this function at application startup"
   ]
  }
 ],
 "metadata": {
  "language_info": {
   "name": "python"
  },
  "orig_nbformat": 4
 },
 "nbformat": 4,
 "nbformat_minor": 2
}
