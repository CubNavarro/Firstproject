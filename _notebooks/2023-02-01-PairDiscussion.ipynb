{
 "cells": [
  {
   "attachments": {},
   "cell_type": "markdown",
   "metadata": {},
   "source": [
    "# Pair Class Discussion\n",
    "\n",
    "- toc: true\n",
    "- title: Pair Class Discussion\n",
    "- comments: true\n",
    "- badges: true\n",
    "- categories: [Week 21]"
   ]
  },
  {
   "attachments": {},
   "cell_type": "markdown",
   "metadata": {},
   "source": [
    "# Computing Bias\n",
    "Is Bias often in computers or in online and usally creates a harmful effect. Sometime people limit the information so you only see one side of the argument.\n",
    "\n",
    "## Intentional or Purposeful Bias\n",
    "\n",
    "### Facebook vs Tiktok\n",
    "The different age groups between Facebook and Tiktok is the different becuase of who there target audience is and who they are targeting to use there app. The developers of Tiktok use brighter colors, higher contrast and a easilier layout for short videos with music and dances to attract young indviduals. While Facebook uses for of a simplistic design with grayer colors like white, black and maybe some color. Facebook is made for keeping up with friends and family though events or differnet groups.\n",
    "\n",
    "### Virtual assistanrs have Female Voices?\n",
    "I think that the virtual assistants are female voices because females voices are more soothing. I think you would listen more to a women talking to you then a man talking to you thats why I believe that the voice assistant are women and there is still the opportunity to use and switch to a differnet like a man or a person with a accent and can change it to your liking\n",
    "\n",
    "### Algorithms In Companies\n",
    "Many Companies use Algorithums to create the best user experience like youtube and how youtube looks at your watch history to decide the best content for you and the content you will like.\n",
    "\n",
    "\n",
    "\n"
   ]
  }
 ],
 "metadata": {
  "kernelspec": {
   "display_name": "Python 3",
   "language": "python",
   "name": "python3"
  },
  "language_info": {
   "name": "python",
   "version": "3.10.6 (tags/v3.10.6:9c7b4bd, Aug  1 2022, 21:53:49) [MSC v.1932 64 bit (AMD64)]"
  },
  "orig_nbformat": 4,
  "vscode": {
   "interpreter": {
    "hash": "dcd4837add793386cd67e25a441830de5b4a5ceabdd5dcba5a317ceae751db5e"
   }
  }
 },
 "nbformat": 4,
 "nbformat_minor": 2
}
