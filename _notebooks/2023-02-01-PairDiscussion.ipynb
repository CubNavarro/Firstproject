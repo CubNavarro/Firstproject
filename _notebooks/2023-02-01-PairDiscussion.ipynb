{
 "cells": [
  {
   "attachments": {},
   "cell_type": "markdown",
   "metadata": {},
   "source": [
    "# Pair Class Discussion\n",
    "\n",
    "- toc: true\n",
    "- title: Pair Class Discussion\n",
    "- comments: true\n",
    "- badges: true\n",
    "- categories: [Week 21]"
   ]
  },
  {
   "attachments": {},
   "cell_type": "markdown",
   "metadata": {},
   "source": [
    "# Summary and Thoughts\n",
    "\n",
    "# Computing Bias\n",
    "Is Bias often in computers or in online and usally creates a harmful effect. Sometime people limit the information so you only see one side of the argument.\n",
    "\n",
    "## Intentional or Purposeful Bias\n",
    "\n",
    "### Facebook vs Tiktok\n",
    "The different age groups between Facebook and Tiktok is the different becuase of who there target audience is and who they are targeting to use there app. The developers of Tiktok use brighter colors, higher contrast and a easilier layout for short videos with music and dances to attract young indviduals. While Facebook uses for of a simplistic design with grayer colors like white, black and maybe some color. Facebook is made for keeping up with friends and family though events or differnet groups.\n",
    "\n",
    "### Virtual assistanrs have Female Voices?\n",
    "I think that the virtual assistants are female voices because females voices are more soothing. I think you would listen more to a women talking to you then a man talking to you thats why I believe that the voice assistant are women and there is still the opportunity to use and switch to a differnet like a man or a person with a accent and can change it to your liking\n",
    "\n",
    "### Algorithms In Companies\n",
    "Many Companies use Algorithums to create the best user experience like youtube and how youtube looks at your watch history to decide the best content for you and the content you will like.\n",
    "\n",
    "### Are Hp Computers Racist\n",
    "I would say that feature needed more testing to make sure it worked on everyone but also the may have not been the best lighing therfore not finding the things the camera seaches for on your face to follow it. Hp could have used more people and a wider range of people from skin color to gender to ensure that it works for everyone.\n",
    "\n",
    "# Conclusion of Intentional or Purposeful Bias\n",
    "Though many things bias is good and bad but can also be unitentional when you don't get something right or it doesn't work. Many companies use bias to prusade you or use it to target differnet audience and use difernet things to portray differnet messages and to get the best outcome and experience for the user.\n",
    "\n",
    "## Crowdsourcing\n",
    "\n",
    "### Wikeapidea and Crowdsourcing examples\n",
    "This is an example of Crowdsourcing because the website allow anyone to input information that could be right or wrong. It also could be information that dosen't realate or is not accurate. More example of crowdsorcing is like crypto or covid to find things like people like and need and use that information to create a better product or sell something better.\n",
    "\n",
    "## Crowdsourcing in APCSP \n",
    "Crowdsorcing will move into this class though useing other informaion from websites, or APIs and will change the dynamic of the classes. Although we already are using a lot of crowdsorcing though differnet informetion and websites we use like github, and other coding platforms.\n",
    "\n",
    "## Projects with Crowdscurcing\n",
    "Crowdsourcing could be useful in having to solve problems and questions with opininons and knowledge from many people to solve the same overall goal and question. Crowdsourcing can also create buzz around a product or idea for feed back or for people to see your product and want to try it out.\n",
    "\n",
    "## Night at the Musseum\n",
    "You can use crowdsourcing to find population opinoions if you wanted to do this or this or do you like this or this better. To create a profie and get a understanding about the people at Night of the Musseum what they like and generalize it\n",
    "\n"
   ]
  }
 ],
 "metadata": {
  "kernelspec": {
   "display_name": "Python 3",
   "language": "python",
   "name": "python3"
  },
  "language_info": {
   "name": "python",
   "version": "3.10.6"
  },
  "orig_nbformat": 4,
  "vscode": {
   "interpreter": {
    "hash": "dcd4837add793386cd67e25a441830de5b4a5ceabdd5dcba5a317ceae751db5e"
   }
  }
 },
 "nbformat": 4,
 "nbformat_minor": 2
}
