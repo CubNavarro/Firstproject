{
 "cells": [
  {
   "cell_type": "markdown",
   "metadata": {},
   "source": [
    "# Lists and Dictionary\n",
    "\n",
    "- toc: true\n",
    "- title: Lists and Dictionary\n",
    "- badges: true\n",
    "- comments: true\n",
    "- categories: [Week 2]\n",
    "- author: Caleb Navarro\n"
   ]
  },
  {
   "cell_type": "markdown",
   "metadata": {},
   "source": [
    "## My list and dictionary\n",
    "\n",
    "I switched it up and made some lists and dictionaries"
   ]
  },
  {
   "cell_type": "code",
   "execution_count": 19,
   "metadata": {},
   "outputs": [
    {
     "name": "stdout",
     "output_type": "stream",
     "text": [
      "['What is your first name?', 'how Old are you?', 'What is your favorite food?', 'What is your favorite color?', 'What is your favorite place?', 'who are your friends']\n"
     ]
    }
   ],
   "source": [
    "questions = [\n",
    "    \"What is your first name?\",\n",
    "    \"How Old are you?\",\n",
    "    \"What is your favorite food?\",\n",
    "    \"What is your favorite color?\",\n",
    "    \"What is your favorite place?\",\n",
    "    \"who are your friends\",\n",
    "]\n",
    "print(questions)\n"
   ]
  },
  {
   "cell_type": "markdown",
   "metadata": {},
   "source": []
  },
  {
   "cell_type": "markdown",
   "metadata": {},
   "source": [
    "## questions with Answers"
   ]
  },
  {
   "cell_type": "code",
   "execution_count": 16,
   "metadata": {},
   "outputs": [
    {
     "name": "stdout",
     "output_type": "stream",
     "text": [
      "What is your first name?\n",
      "Big Man Nathan\n",
      "How old are you?\n",
      "16\n",
      "What is your favorite Food\n",
      "Pizza\n",
      "How old are you?\n",
      "Hot pink\n",
      "What is your favoirte place\n",
      "Europe\n",
      "Who are your friends\n",
      "The leader of the friend group, Gene, Caleb\n",
      "Is this you?\n",
      "{'Your Name': 'Big Man Nathan', 'Your Age': '16', 'Favorite Food': 'Pizza', 'Favorite Place': 'Europe', 'Your Friends': 'The leader of the friend group, Gene, Caleb'}\n"
     ]
    }
   ],
   "source": [
    "print(\"What is your first name?\")\n",
    "name = \"Big Man Nathan\"\n",
    "print(name)\n",
    "\n",
    "\n",
    "print(\"How old are you?\")\n",
    "age = \"16\"\n",
    "print(age)\n",
    "\n",
    "\n",
    "# variable of type integer\n",
    "print(\"What is your favorite Food\")\n",
    "food = \"Pizza\"\n",
    "print(food)\n",
    "\n",
    "\n",
    "print(\"How old are you?\")\n",
    "color = \"Hot pink\"\n",
    "print(color)\n",
    "\n",
    "\n",
    "# variable of type float\n",
    "print(\"What is your favoirte place\")\n",
    "place = \"Europe\"\n",
    "print(place)\n",
    "\n",
    "\n",
    "# variable of type list (many values in one variable)\n",
    "print(\"Who are your friends\")\n",
    "friends = \"The leader of the friend group, Gene, Caleb\"\n",
    "print(friends)\n",
    "\n",
    "\n",
    "# variable of type dictionary (a group of keys and values)\n",
    "print(\"Is this you?\")\n",
    "person = {\n",
    "    \"Your Name\": name,\n",
    "\n",
    "    \"Your Age\": age,\n",
    "\n",
    "    \"Favorite Food\": food,\n",
    "\n",
    "    \"Favorite Place\": place,\n",
    "\n",
    "    \"Your Friends\": friends\n",
    "}\n",
    "print(person)"
   ]
  }
 ],
 "metadata": {
  "kernelspec": {
   "display_name": "Python 3.10.6 64-bit",
   "language": "python",
   "name": "python3"
  },
  "language_info": {
   "codemirror_mode": {
    "name": "ipython",
    "version": 3
   },
   "file_extension": ".py",
   "mimetype": "text/x-python",
   "name": "python",
   "nbconvert_exporter": "python",
   "pygments_lexer": "ipython3",
   "version": "3.10.6"
  },
  "orig_nbformat": 4,
  "vscode": {
   "interpreter": {
    "hash": "dcd4837add793386cd67e25a441830de5b4a5ceabdd5dcba5a317ceae751db5e"
   }
  }
 },
 "nbformat": 4,
 "nbformat_minor": 2
}
