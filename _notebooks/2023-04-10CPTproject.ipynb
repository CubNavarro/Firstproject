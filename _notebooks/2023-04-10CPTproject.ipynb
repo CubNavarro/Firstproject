{
 "cells": [
  {
   "attachments": {},
   "cell_type": "markdown",
   "metadata": {},
   "source": [
    "# Food Guessing Game\n",
    "\n",
    "This is a game that you try and guess the food name from a description that is givin to you."
   ]
  },
  {
   "cell_type": "code",
   "execution_count": null,
   "metadata": {},
   "outputs": [],
   "source": [
    "import random\n",
    "\n",
    "foods = [\n",
    "    {\"name\": \"Pizza\", \"description\": \"A baked dish made of dough, tomato sauce, and toppings such as cheese and meat.\"},\n",
    "    {\"name\": \"Sushi\", \"description\": \"A Japanese dish consisting of small balls or rolls of vinegar-flavored cold cooked rice served with a garnish of vegetables, egg, or raw seafood.\"},\n",
    "    {\"name\": \"Burger\", \"description\": \"A sandwich consisting of a grilled beef patty served on a bun, often with cheese, lettuce, tomato, and other toppings.\"},\n",
    "    {\"name\": \"Taco\", \"description\": \"A traditional Mexican dish consisting of a corn or wheat tortilla filled with meat, beans, cheese, and vegetables.\"},\n",
    "    {\"name\": \"Pad Thai\", \"description\": \"A stir-fried noodle dish commonly served as a street food and in casual restaurants in Thailand.\"},\n",
    "    {\"name\": \"Fish and Chips\", \"description\": \"A British dish consisting of battered fish and deep-fried chips (French fries).\"}\n",
    "]\n",
    "\n",
    "points = 0\n",
    "\n",
    "for i in range(len(foods)):\n",
    "    food = random.choice(foods)\n",
    "    print(\"What food item is described as follows?\")\n",
    "    print(food[\"description\"])\n",
    "    guess = input(\"Guess the name of the food item: \")\n",
    "    if guess.lower() == food[\"name\"].lower():\n",
    "        print(\"Correct! You earned 10 points.\")\n",
    "        points += 10\n",
    "    else:\n",
    "        print(\"Incorrect. The correct answer is\", food[\"name\"], \". You lost 5 points.\")\n",
    "        points -= 5\n",
    "    foods.remove(food)\n",
    "    \n",
    "print(\"Game over. Your final score is\", points)\n"
   ]
  },
  {
   "attachments": {},
   "cell_type": "markdown",
   "metadata": {},
   "source": [
    "# Another Version of the Food game\n",
    "\n",
    "This version Makes it so that you have 2 options to choose from and this was the next section that I wanted to complete and improve. Next version has only one round instead of asking multiple times."
   ]
  },
  {
   "cell_type": "code",
   "execution_count": null,
   "metadata": {},
   "outputs": [],
   "source": [
    "import random\n",
    "\n",
    "foods = [    {\"name\": \"Pizza\", \"description\": \"A baked dish made of dough, tomato sauce, and toppings such as cheese and meat.\"},   \n",
    "             {\"name\": \"Sushi\", \"description\": \"A Japanese dish consisting of small balls or rolls of vinegar-flavored cold cooked rice served with a garnish of vegetables, egg, or raw seafood.\"},    \n",
    "             {\"name\": \"Burger\", \"description\": \"A sandwich consisting of a grilled beef patty served on a bun, often with cheese, lettuce, tomato, and other toppings.\"},    \n",
    "             {\"name\": \"Taco\", \"description\": \"A traditional Mexican dish consisting of a corn or wheat tortilla filled with meat, beans, cheese, and vegetables.\"},   \n",
    "             {\"name\": \"Pad Thai\", \"description\": \"A stir-fried noodle dish commonly served as a street food and in casual restaurants in Thailand.\"},    {\"name\": \"Fish and Chips\", \"description\": \"A British dish consisting of battered fish and deep-fried chips (French fries).\"}]\n",
    "\n",
    "points = 0\n",
    "rounds = 5\n",
    "\n",
    "for i in range(rounds):\n",
    "    # Select two random foods from the list\n",
    "    food1, food2 = random.sample(foods, 2)\n",
    "    print(\"Which of the following foods is described as follows?\")\n",
    "    print(\"1. \" + food1[\"description\"])\n",
    "    print(\"2. \" + food2[\"description\"])\n",
    "    guess = int(input(\"Enter 1 or 2 to guess: \"))\n",
    "    if guess == 1 and food1[\"name\"].lower() == input(\"Guess the name of the first food item: \").lower():\n",
    "        print(\"Correct! You earned 10 points.\")\n",
    "        points += 10\n",
    "    elif guess == 2 and food2[\"name\"].lower() == input(\"Guess the name of the second food item: \").lower():\n",
    "        print(\"Correct! You earned 10 points.\")\n",
    "        points += 10\n",
    "    else:\n",
    "        print(\"Incorrect. The correct answer is\", food1[\"name\"] + \" or \" + food2[\"name\"], \". You lost 5 points.\")\n",
    "        points -= 5\n",
    "    \n",
    "print(\"Game over. Your final score is\", points)\n"
   ]
  },
  {
   "attachments": {},
   "cell_type": "markdown",
   "metadata": {},
   "source": [
    "## Getting the Answer correct\n",
    "\n",
    "This is the version when you get the answer correct"
   ]
  },
  {
   "cell_type": "code",
   "execution_count": 4,
   "metadata": {},
   "outputs": [
    {
     "name": "stdout",
     "output_type": "stream",
     "text": [
      "Which of the following foods is described as follows?\n",
      "1. A British dish consisting of battered fish and deep-fried chips (French fries).\n",
      "2. A Japanese dish consisting of small balls or rolls of vinegar-flavored cold cooked rice served with a garnish of vegetables, egg, or raw seafood.\n",
      "Correct! You guessed the food item correctly.\n",
      "Thanks For Playing the Game.\n"
     ]
    }
   ],
   "source": [
    "import random\n",
    "\n",
    "foods = [\n",
    "    {\"name\": \"Pizza\", \"description\": \"A baked dish made of dough, tomato sauce, and toppings such as cheese and meat.\"},\n",
    "    {\"name\": \"Sushi\", \"description\": \"A Japanese dish consisting of small balls or rolls of vinegar-flavored cold cooked rice served with a garnish of vegetables, egg, or raw seafood.\"},\n",
    "    {\"name\": \"Burger\", \"description\": \"A sandwich consisting of a grilled beef patty served on a bun, often with cheese, lettuce, tomato, and other toppings.\"},\n",
    "    {\"name\": \"Taco\", \"description\": \"A traditional Mexican dish consisting of a corn or wheat tortilla filled with meat, beans, cheese, and vegetables.\"},\n",
    "    {\"name\": \"Pad Thai\", \"description\": \"A stir-fried noodle dish commonly served as a street food and in casual restaurants in Thailand.\"},\n",
    "    {\"name\": \"Fish and Chips\", \"description\": \"A British dish consisting of battered fish and deep-fried chips (French fries).\"}\n",
    "]\n",
    "\n",
    "# Select two random foods from the list\n",
    "food1, food2 = random.sample(foods, 2)\n",
    "\n",
    "print(\"Which of the following foods is described as follows?\")\n",
    "print(\"1. \" + food1[\"description\"])\n",
    "print(\"2. \" + food2[\"description\"])\n",
    "guess = int(input(\"Enter 1 or 2 to guess: \"))\n",
    "if guess == 1 and food1[\"name\"].lower() == input(\"Guess the name of the first food item: \").lower():\n",
    "    print(\"Correct! You guessed the food item correctly.\")\n",
    "elif guess == 2 and food2[\"name\"].lower() == input(\"Guess the name of the second food item: \").lower():\n",
    "    print(\"Correct! You guessed the food item correctly.\")\n",
    "else:\n",
    "    print(\"Incorrect. The correct answer for Question 1 is\", food1[\"name\"] + \" and the answer for the Question 2 is\" + food2[\"name\"])\n",
    "    \n",
    "print(\"Thanks For Playing the Game.\")\n"
   ]
  },
  {
   "attachments": {},
   "cell_type": "markdown",
   "metadata": {},
   "source": [
    "## Getting the Answer Wrong\n",
    "\n",
    "This is the Final version of the game "
   ]
  },
  {
   "cell_type": "code",
   "execution_count": 3,
   "metadata": {},
   "outputs": [
    {
     "name": "stdout",
     "output_type": "stream",
     "text": [
      "Which of the following foods is described as follows?\n",
      "1. A British dish consisting of battered fish and deep-fried chips (French fries).\n",
      "2. A traditional Mexican dish consisting of a corn or wheat tortilla filled with meat, beans, cheese, and vegetables.\n",
      "Incorrect. The correct answer for Question 1 is Fish and Chips and the answer for the Question 2 isTaco\n",
      "Thanks For Playing the Game.\n"
     ]
    }
   ],
   "source": [
    "import random\n",
    "\n",
    "foods = [\n",
    "    {\"name\": \"Pizza\", \"description\": \"A baked dish made of dough, tomato sauce, and toppings such as cheese and meat.\"},\n",
    "    {\"name\": \"Sushi\", \"description\": \"A Japanese dish consisting of small balls or rolls of vinegar-flavored cold cooked rice served with a garnish of vegetables, egg, or raw seafood.\"},\n",
    "    {\"name\": \"Burger\", \"description\": \"A sandwich consisting of a grilled beef patty served on a bun, often with cheese, lettuce, tomato, and other toppings.\"},\n",
    "    {\"name\": \"Taco\", \"description\": \"A traditional Mexican dish consisting of a corn or wheat tortilla filled with meat, beans, cheese, and vegetables.\"},\n",
    "    {\"name\": \"Pad Thai\", \"description\": \"A stir-fried noodle dish commonly served as a street food and in casual restaurants in Thailand.\"},\n",
    "    {\"name\": \"Fish and Chips\", \"description\": \"A British dish consisting of battered fish and deep-fried chips (French fries).\"}\n",
    "]\n",
    "\n",
    "# Select two random foods from the list\n",
    "food1, food2 = random.sample(foods, 2)\n",
    "\n",
    "print(\"Which of the following foods is described as follows?\")\n",
    "print(\"1. \" + food1[\"description\"])\n",
    "print(\"2. \" + food2[\"description\"])\n",
    "guess = int(input(\"Enter 1 or 2 to guess: \"))\n",
    "if guess == 1 and food1[\"name\"].lower() == input(\"Guess the name of the first food item: \").lower():\n",
    "    print(\"Correct! You guessed the food item correctly.\")\n",
    "elif guess == 2 and food2[\"name\"].lower() == input(\"Guess the name of the second food item: \").lower():\n",
    "    print(\"Correct! You guessed the food item correctly.\")\n",
    "else:\n",
    "    print(\"Incorrect. The correct answer for Question 1 is\", food1[\"name\"] + \" and the answer for the Question 2 is\" + food2[\"name\"])\n",
    "    \n",
    "print(\"Thanks For Playing the Game.\")\n"
   ]
  }
 ],
 "metadata": {
  "kernelspec": {
   "display_name": "base",
   "language": "python",
   "name": "python3"
  },
  "language_info": {
   "codemirror_mode": {
    "name": "ipython",
    "version": 3
   },
   "file_extension": ".py",
   "mimetype": "text/x-python",
   "name": "python",
   "nbconvert_exporter": "python",
   "pygments_lexer": "ipython3",
   "version": "3.9.12"
  },
  "orig_nbformat": 4
 },
 "nbformat": 4,
 "nbformat_minor": 2
}
