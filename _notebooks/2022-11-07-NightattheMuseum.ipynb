{
 "cells": [
  {
   "cell_type": "markdown",
   "metadata": {},
   "source": [
    "# Night At The Museum Blog \n",
    "\n",
    "- toc: true\n",
    "- title: Night At The Museum Blog\n",
    "- badges: true\n",
    "- comments: true\n",
    "- categories: [Week 13]\n",
    "- author: Caleb Navarro"
   ]
  },
  {
   "cell_type": "markdown",
   "metadata": {},
   "source": [
    "# Photos From Night at the Museum\n",
    "\n",
    "I took images from the differnet class projects that I looked at during the night. I looked at some of the 3D Animation work along with ceramics and Drawing and painting. I stayed for about an hour 30 minutes in APCSP and 30 minutes looking around at the work of classmates and friends."
   ]
  },
  {
   "cell_type": "code",
   "execution_count": 1,
   "metadata": {},
   "outputs": [
    {
     "name": "stderr",
     "output_type": "stream",
     "text": [
      "'[]' is not recognized as an internal or external command,\n",
      "operable program or batch file.\n",
      "'[]' is not recognized as an internal or external command,\n",
      "operable program or batch file.\n",
      "'[]' is not recognized as an internal or external command,\n",
      "operable program or batch file.\n",
      "'[]' is not recognized as an internal or external command,\n",
      "operable program or batch file.\n"
     ]
    }
   ],
   "source": [
    "![]({{site.baseurl }}/images/NightofTheMuseum)\n",
    "\n",
    "![]({{site.baseurl }}/images/NightofTheMuseum2)\n",
    "\n",
    "![]({{site.baseurl }}/images/NightofTheMuseum3)\n",
    "\n",
    "![]({{site.baseurl }}/images/NightofTheMuseum4)\n",
    "\n",
    "![]({{site.baseurl }}/images/NightofTheMuseum5)\n"
   ]
  }
 ],
 "metadata": {
  "kernelspec": {
   "display_name": "Python 3.10.6 64-bit",
   "language": "python",
   "name": "python3"
  },
  "language_info": {
   "codemirror_mode": {
    "name": "ipython",
    "version": 3
   },
   "file_extension": ".py",
   "mimetype": "text/x-python",
   "name": "python",
   "nbconvert_exporter": "python",
   "pygments_lexer": "ipython3",
   "version": "3.10.6"
  },
  "orig_nbformat": 4,
  "vscode": {
   "interpreter": {
    "hash": "dcd4837add793386cd67e25a441830de5b4a5ceabdd5dcba5a317ceae751db5e"
   }
  }
 },
 "nbformat": 4,
 "nbformat_minor": 2
}
