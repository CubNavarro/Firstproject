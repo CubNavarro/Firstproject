{
 "cells": [
  {
   "cell_type": "markdown",
   "metadata": {},
   "source": [
    "# Java Script\n",
    "\n",
    "- toc: true\n",
    "- title: Java Script\n",
    "- badges: true\n",
    "- comments: true\n",
    "- categories: [Week 5]\n",
    "- author: Caleb Navarro"
   ]
  },
  {
   "cell_type": "code",
   "execution_count": 16,
   "metadata": {},
   "outputs": [],
   "source": [
    "function logIt(output) {\n",
    "    console.log(output);\n",
    "}"
   ]
  },
  {
   "cell_type": "code",
   "execution_count": 17,
   "metadata": {},
   "outputs": [],
   "source": [
    "function logItType(output) {\n",
    "    console.log(typeof output, \";\", output);\n",
    "}"
   ]
  },
  {
   "cell_type": "code",
   "execution_count": 18,
   "metadata": {},
   "outputs": [
    {
     "name": "stdout",
     "output_type": "stream",
     "text": [
      "object ; Person {\n",
      "  name: 'Mr M',\n",
      "  ghID: 'jm1021',\n",
      "  classOf: 1977,\n",
      "  role: 'teacher',\n",
      "  School: undefined }\n",
      "string ; {\"name\":\"Mr M\",\"ghID\":\"jm1021\",\"classOf\":1977,\"role\":\"teacher\"}\n",
      "object ; Person {\n",
      "  name: 'Caleb',\n",
      "  ghID: 'CubNavarro',\n",
      "  classOf: 2024,\n",
      "  role: 'Coolguy',\n",
      "  School: 'Del Norte' }\n",
      "object ; Person {\n",
      "  name: 'Mr M',\n",
      "  ghID: 'jm1021',\n",
      "  classOf: 1977,\n",
      "  role: 'Teacher',\n",
      "  School: 'Del Norte' }\n",
      "string ; {\"name\":\"Mr M\",\"ghID\":\"jm1021\",\"classOf\":1977,\"role\":\"Teacher\"}\n"
     ]
    }
   ],
   "source": [
    "// define a function to hold data for a Person\n",
    "function Person(name, ghID, classOf, School) {\n",
    "    this.name = name;\n",
    "    this.ghID = ghID;\n",
    "    this.classOf = classOf;\n",
    "    this.role = \"\";\n",
    "    this.School = School;\n",
    "}\n",
    "\n",
    "// define a setter for role in Person data\n",
    "Person.prototype.setRole = function(role) {\n",
    "    this.role = role;\n",
    "}\n",
    "\n",
    "Person.prototype.setSchool = function(School){\n",
    "    this.School = School;\n",
    "}\n",
    "\n",
    "// define a JSON conversion \"method\" associated with Person\n",
    "Person.prototype.toJSON = function() {\n",
    "    const obj = {name: this.name, ghID: this.ghID, classOf: this.classOf, role: this.role};\n",
    "    const json = JSON.stringify(obj);\n",
    "    return json;\n",
    "}\n",
    "\n",
    "// make a new Person and assign to variable teacher\n",
    "var teacher = new Person(\"Mr M\", \"jm1021\", 1977);  // object type is easy to work with in JavaScript\n",
    "teacher.setRole(\"teacher\")\n",
    "logItType(teacher);  // before role\n",
    "logItType(teacher.toJSON());  // ok to do this even though role is not yet defined\n",
    "\n",
    "// Add myself as a new person\n",
    "var caleb = new Person(\"Caleb\", \"CubNavarro\", 2024);\n",
    "caleb.setRole(\"Coolguy\")\n",
    "caleb.setSchool(\"Del Norte\")\n",
    "logItType(caleb);\n",
    "\n",
    "// output of Object and JSON/string associated with Teacher\n",
    "teacher.setRole(\"Teacher\");   // set the role\n",
    "teacher.setSchool(\"Del Norte\")\n",
    "logItType(teacher); \n",
    "logItType(teacher.toJSON());"
   ]
  },
  {
   "cell_type": "code",
   "execution_count": 19,
   "metadata": {},
   "outputs": [
    {
     "name": "stdout",
     "output_type": "stream",
     "text": [
      "object ; [ Person {\n",
      "    name: 'Mr M',\n",
      "    ghID: 'jm1021',\n",
      "    classOf: 1977,\n",
      "    role: 'Teacher',\n",
      "    School: 'Del Norte' },\n",
      "  Person {\n",
      "    name: 'Toby',\n",
      "    ghID: 'Tobyleeder',\n",
      "    classOf: 2024,\n",
      "    role: 'Student',\n",
      "    School: 'Del Norte' },\n",
      "  Person {\n",
      "    name: 'Nathan',\n",
      "    ghID: 'Nathan-Capule',\n",
      "    classOf: 2024,\n",
      "    role: 'Student',\n",
      "    School: 'Del Norte' },\n",
      "  Person {\n",
      "    name: 'Gene',\n",
      "    ghID: 'Gene',\n",
      "    classOf: 2024,\n",
      "    role: 'Student',\n",
      "    School: 'Del Norte' },\n",
      "  Person {\n",
      "    name: 'Theo',\n",
      "    ghID: 'Theothegreat',\n",
      "    classOf: 2024,\n",
      "    role: 'Student',\n",
      "    School: 'Del Norte' },\n",
      "  Person {\n",
      "    name: 'Caden',\n",
      "    ghID: 'cadenthebot',\n",
      "    classOf: 2024,\n",
      "    role: 'Student',\n",
      "    School: 'Del Norte' } ]\n",
      "string ; Mr M\n",
      "string ; {\"name\":\"Mr M\",\"ghID\":\"jm1021\",\"classOf\":1977,\"role\":\"Teacher\"}\n",
      "object ; { name: 'Mr M', ghID: 'jm1021', classOf: 1977, role: 'Teacher' }\n"
     ]
    }
   ],
   "source": [
    "var students = [ \n",
    "    new Person(\"Toby\", \"Tobyleeder\", 2024, \"Del Norte\"),\n",
    "    new Person(\"Nathan\", \"Nathan-Capule\", 2024, \"Del Norte\"),\n",
    "    new Person(\"Gene\", \"Gene\", 2024, \"Del Norte\"),\n",
    "    new Person(\"Theo\", \"Theothegreat\", 2024, \"Del Norte\"),\n",
    "    new Person(\"Caden\", \"cadenthebot\", 2024, \"Del Norte\"),\n",
    "\n",
    "];\n",
    "\n",
    "// define a classroom and build Classroom objects and json\n",
    "function Classroom(teacher, students){ // 1 teacher, many student\n",
    "    // start Classroom with Teacher\n",
    "    teacher.setRole(\"Teacher\");\n",
    "    teacher.setSchool(\"Del Norte\")\n",
    "    this.teacher = teacher;\n",
    "    this.classroom = [teacher];\n",
    "    // add each Student to Classroom\n",
    "    this.students = students;\n",
    "    this.students.forEach(student => { student.setRole(\"Student\"); this.classroom.push(student); });\n",
    "    // build json/string format of Classroom\n",
    "    this.json = [];\n",
    "    this.classroom.forEach(person => this.json.push(person.toJSON()));\n",
    "}\n",
    "\n",
    "// make a CompSci classroom from formerly defined teacher and students\n",
    "compsci = new Classroom(teacher, students);\n",
    "\n",
    "// output of Objects and JSON in CompSci classroom\n",
    "logItType(compsci.classroom);  // constructed classroom object\n",
    "logItType(compsci.classroom[0].name);  // abstract 1st objects name\n",
    "logItType(compsci.json[0]);  // show json conversion of 1st object to string\n",
    "logItType(JSON.parse(compsci.json[0]));  // show JSON.parse inverse of JSON.stringify"
   ]
  },
  {
   "cell_type": "code",
   "execution_count": 20,
   "metadata": {},
   "outputs": [
    {
     "data": {
      "text/html": [
       "<div style='display:inline-block;border: 2px solid grey;box-shadow: 0.8em 0.4em 0.4em grey;'><table><tr><th><mark>Name</mark></th><th><mark>GitHub ID</mark></th><th><mark>Class Of</mark></th><th><mark>Role</mark></th><th><mark>School</mark><th></tr><tr><td>Mr M</td><td>jm1021</td><td>1977</td><td>Teacher</td><td>Del Norte</td><tr><tr><td>Toby</td><td>Tobyleeder</td><td>2024</td><td>Student</td><td>Del Norte</td><tr><tr><td>Nathan</td><td>Nathan-Capule</td><td>2024</td><td>Student</td><td>Del Norte</td><tr><tr><td>Gene</td><td>Gene</td><td>2024</td><td>Student</td><td>Del Norte</td><tr><tr><td>Theo</td><td>Theothegreat</td><td>2024</td><td>Student</td><td>Del Norte</td><tr><tr><td>Caden</td><td>cadenthebot</td><td>2024</td><td>Student</td><td>Del Norte</td><tr></table></div>"
      ]
     },
     "execution_count": 20,
     "metadata": {},
     "output_type": "execute_result"
    }
   ],
   "source": [
    "// define an HTML conversion \"method\" associated with Classroom\n",
    "Classroom.prototype._toHtml = function() {\n",
    "  // HTML Style is build using inline structure\n",
    "  var style = (\n",
    "    \"display:inline-block;\" +\n",
    "    \"border: 2px solid grey;\" +\n",
    "    \"box-shadow: 0.8em 0.4em 0.4em grey;\"\n",
    "  );\n",
    "\n",
    "  // HTML Body of Table is build as a series of concatenations (+=)\n",
    "  var body = \"\";\n",
    "  // Heading for Array Columns\n",
    "  body += \"<tr>\";\n",
    "  body += \"<th><mark>\" + \"Name\" + \"</mark></th>\";\n",
    "  body += \"<th><mark>\" + \"GitHub ID\" + \"</mark></th>\";\n",
    "  body += \"<th><mark>\" + \"Class Of\" + \"</mark></th>\";\n",
    "  body += \"<th><mark>\" + \"Role\" + \"</mark></th>\";\n",
    "  body += \"<th><mark>\" + \"School\" + \"</mark><th>\";\n",
    "  body += \"</tr>\";\n",
    "  // Data of Array, iterate through each row of compsci.classroom \n",
    "  for (var row of compsci.classroom) {\n",
    "    // tr for each row, a new line\n",
    "    body += \"<tr>\";\n",
    "    // td for each column of data\n",
    "    body += \"<td>\" + row.name + \"</td>\";\n",
    "    body += \"<td>\" + row.ghID + \"</td>\";\n",
    "    body += \"<td>\" + row.classOf + \"</td>\";\n",
    "    body += \"<td>\" + row.role + \"</td>\";\n",
    "    body += \"<td>\" + row.School + \"</td>\";\n",
    "    // tr to end line\n",
    "    body += \"<tr>\";\n",
    "  }\n",
    "\n",
    "   // Build and HTML fragment of div, table, table body\n",
    "  return (\n",
    "    \"<div style='\" + style + \"'>\" +\n",
    "      \"<table>\" +\n",
    "        body +\n",
    "      \"</table>\" +\n",
    "    \"</div>\"\n",
    "  );\n",
    "\n",
    "}\n",
    "\n",
    "// IJavaScript HTML processor receive parameter of defined HTML fragment\n",
    "$$.html(compsci._toHtml());"
   ]
  }
 ],
 "metadata": {
  "kernelspec": {
   "display_name": "JavaScript (Node.js)",
   "language": "javascript",
   "name": "javascript"
  },
  "language_info": {
   "file_extension": ".js",
   "mimetype": "application/javascript",
   "name": "javascript",
   "version": "6.11.2"
  },
  "orig_nbformat": 4,
  "vscode": {
   "interpreter": {
    "hash": "916dbcbb3f70747c44a77c7bcd40155683ae19c65e1c03b4aa3499c5328201f1"
   }
  }
 },
 "nbformat": 4,
 "nbformat_minor": 2
}
