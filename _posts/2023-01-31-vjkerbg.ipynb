{
 "cells": [
  {
   "attachments": {},
   "cell_type": "markdown",
   "metadata": {},
   "source": [
    "\n",
    "---\n",
    "toc: true\n",
    "layout: post\n",
    "categories: [Week 4]\n",
    "title: Poje\n",
    "---\n",
    "\n",
    "## My Score \n",
    "\n",
    "I got a 45 out of 50 on the final, which was a higher score than I expected to get. I will be going over the questions that I got wrong and attempt corrections, as well as discussing how I felt about the test.\n",
    "\n",
    "![]({{ site.baseurl }}/images/Finalscore.png)\n",
    "\n",
    "## Question I had problems with\n",
    "\n",
    "### Question 28: Robot in bottom right corner of grid\n",
    "\n",
    "![]({{ site.baseurl }}/images/question29.png)\n",
    "\n",
    "\n",
    "### Question 29: Robot in open grid loop 3 times\n",
    "\n",
    "![]({{ site.baseurl }}/images/question29.png)\n",
    "\n",
    "I got this wrong because i did the process to many times and didn't get the right answer.\n",
    "\n",
    "### Question 49: What problems can be solved with algorithms\n",
    "\n",
    "![]({{ site.baseurl }}/images/question49.png)\n",
    "\n",
    "I got this question wrong because I assumed that every problem can be solved with an algorithm for all possible inputs, when in reality some problems cannot be solved with an algorithm for all possible inputs. Some problems will have no feasible solution with an algorithm.\n",
    "\n",
    "## Reflection:\n",
    "Overall, I think I did great on this multiple choice quiz. Last time, it took me a lot of more time to digest what the questions were asking and then understand how I could even decide the answer. I understood the majority of the topics on this quiz almost after a minute or two with multiple reads. From the last multiple choice, I feel like I have actually learned a lot more, even if it is the most basic knowledge. Before this quiz I was really discouraged about my progress and felt like I have not really learned much or made any progress, but from my results and the way I got through this quiz, I think I am on track so far in APCSP."
   ]
  }
 ],
 "metadata": {
  "kernelspec": {
   "display_name": "Python 3",
   "language": "python",
   "name": "python3"
  },
  "language_info": {
   "name": "python",
   "version": "3.10.6"
  },
  "orig_nbformat": 4,
  "vscode": {
   "interpreter": {
    "hash": "dcd4837add793386cd67e25a441830de5b4a5ceabdd5dcba5a317ceae751db5e"
   }
  }
 },
 "nbformat": 4,
 "nbformat_minor": 2
}
